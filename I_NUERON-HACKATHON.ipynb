{
 "cells": [
  {
   "cell_type": "markdown",
   "metadata": {},
   "source": [
    "# Vehicle loan prediction (Growth Source Financial recruitment task)\n",
    "## A Predictive Model by \n",
    "## Arshan Khan\n",
    "## Post Graduate Student of data science \n",
    "## Praxis Business School Bangalore"
   ]
  },
  {
   "cell_type": "markdown",
   "metadata": {},
   "source": [
    "## Problem Defination\n",
    "Problem statement  develop an algorithm to predict the default of a customer for vehicle loans By identifying key attritubes.\n",
    "\n",
    "Motivation : Financial institutions incur significant losses due to the default of vehicle loans. This has led to the tightening up of vehicle loan underwriting and increased vehicle loan rejection rates. The need for a better credit risk scoring model is also raised by these institutions. "
   ]
  },
  {
   "cell_type": "code",
   "execution_count": 1,
   "metadata": {},
   "outputs": [],
   "source": [
    "#load packages\n",
    "\n",
    "import pandas as pd\n",
    "import numpy as np\n",
    "\n",
    "import seaborn as sns\n",
    "import matplotlib.pyplot as plt\n",
    "%matplotlib inline\n",
    "\n",
    "import random as rnd"
   ]
  },
  {
   "cell_type": "markdown",
   "metadata": {},
   "source": [
    "####  Load Data Modelling Libraries\n",
    "We will use the popular scikit-learn library to develop our machine learning algorithms and for data visualization, we will use the matplotlib and seaborn library. Below are common classes to load."
   ]
  },
  {
   "cell_type": "code",
   "execution_count": 2,
   "metadata": {},
   "outputs": [],
   "source": [
    "#Common Model Algorithms\n",
    "\n",
    "from sklearn.linear_model import LogisticRegression\n",
    "from sklearn.preprocessing import LabelEncoder\n",
    "from sklearn.neighbors import KNeighborsClassifier\n",
    "from sklearn.svm import SVC,LinearSVC\n",
    "from sklearn.ensemble import RandomForestClassifier\n",
    "from sklearn.naive_bayes import GaussianNB\n",
    "from sklearn.linear_model import Perceptron\n",
    "from sklearn.linear_model import SGDClassifier\n",
    "from sklearn.tree import DecisionTreeClassifier\n",
    "from sklearn.ensemble import RandomForestClassifier,BaggingClassifier,AdaBoostClassifier,GradientBoostingClassifier\n",
    "from sklearn.model_selection import StratifiedShuffleSplit\n",
    "from sklearn.model_selection import train_test_split\n",
    "from sklearn.model_selection import train_test_split\n",
    "from sklearn.metrics import precision_score, recall_score, f1_score,accuracy_score\n",
    "from sklearn.metrics import confusion_matrix\n",
    "from sklearn.datasets import load_digits\n",
    "from sklearn import tree\n",
    "\n",
    "#Visualization\n",
    "import matplotlib as mpl\n",
    "import matplotlib.pyplot as plt\n",
    "import matplotlib.pylab as pylab\n",
    "import seaborn as sns"
   ]
  },
  {
   "cell_type": "markdown",
   "metadata": {},
   "source": [
    "### Data preparation\n",
    "To begin this step, The data is imported firstly . Next we use the info()function, to get a quick and dirty overview of variable datatypes (i.e. qualitative vs quantitative). Click here for the [Source Data Dictionary](https://www.kaggle.com/sneharshinde/ltfs-av-data)."
   ]
  },
  {
   "cell_type": "code",
   "execution_count": 3,
   "metadata": {},
   "outputs": [],
   "source": [
    "train_df= pd.read_csv('C:/Users/Admin/Downloads/train.csv~/train.csv')\n",
    "test_df= pd.read_csv('C:/Users/Admin/Downloads/test_bqCt9Pv.csv~/test_bqCt9Pv.csv')"
   ]
  },
  {
   "cell_type": "code",
   "execution_count": 4,
   "metadata": {},
   "outputs": [
    {
     "data": {
      "text/html": [
       "<div>\n",
       "<style scoped>\n",
       "    .dataframe tbody tr th:only-of-type {\n",
       "        vertical-align: middle;\n",
       "    }\n",
       "\n",
       "    .dataframe tbody tr th {\n",
       "        vertical-align: top;\n",
       "    }\n",
       "\n",
       "    .dataframe thead th {\n",
       "        text-align: right;\n",
       "    }\n",
       "</style>\n",
       "<table border=\"1\" class=\"dataframe\">\n",
       "  <thead>\n",
       "    <tr style=\"text-align: right;\">\n",
       "      <th></th>\n",
       "      <th>UniqueID</th>\n",
       "      <th>disbursed_amount</th>\n",
       "      <th>asset_cost</th>\n",
       "      <th>ltv</th>\n",
       "      <th>branch_id</th>\n",
       "      <th>supplier_id</th>\n",
       "      <th>manufacturer_id</th>\n",
       "      <th>Current_pincode_ID</th>\n",
       "      <th>Date.of.Birth</th>\n",
       "      <th>Employment.Type</th>\n",
       "      <th>...</th>\n",
       "      <th>SEC.SANCTIONED.AMOUNT</th>\n",
       "      <th>SEC.DISBURSED.AMOUNT</th>\n",
       "      <th>PRIMARY.INSTAL.AMT</th>\n",
       "      <th>SEC.INSTAL.AMT</th>\n",
       "      <th>NEW.ACCTS.IN.LAST.SIX.MONTHS</th>\n",
       "      <th>DELINQUENT.ACCTS.IN.LAST.SIX.MONTHS</th>\n",
       "      <th>AVERAGE.ACCT.AGE</th>\n",
       "      <th>CREDIT.HISTORY.LENGTH</th>\n",
       "      <th>NO.OF_INQUIRIES</th>\n",
       "      <th>loan_default</th>\n",
       "    </tr>\n",
       "  </thead>\n",
       "  <tbody>\n",
       "    <tr>\n",
       "      <th>0</th>\n",
       "      <td>420825</td>\n",
       "      <td>50578</td>\n",
       "      <td>58400</td>\n",
       "      <td>89.55</td>\n",
       "      <td>67</td>\n",
       "      <td>22807</td>\n",
       "      <td>45</td>\n",
       "      <td>1441</td>\n",
       "      <td>01-01-84</td>\n",
       "      <td>Salaried</td>\n",
       "      <td>...</td>\n",
       "      <td>0</td>\n",
       "      <td>0</td>\n",
       "      <td>0</td>\n",
       "      <td>0</td>\n",
       "      <td>0</td>\n",
       "      <td>0</td>\n",
       "      <td>0yrs 0mon</td>\n",
       "      <td>0yrs 0mon</td>\n",
       "      <td>0</td>\n",
       "      <td>0</td>\n",
       "    </tr>\n",
       "    <tr>\n",
       "      <th>1</th>\n",
       "      <td>537409</td>\n",
       "      <td>47145</td>\n",
       "      <td>65550</td>\n",
       "      <td>73.23</td>\n",
       "      <td>67</td>\n",
       "      <td>22807</td>\n",
       "      <td>45</td>\n",
       "      <td>1502</td>\n",
       "      <td>31-07-85</td>\n",
       "      <td>Self employed</td>\n",
       "      <td>...</td>\n",
       "      <td>0</td>\n",
       "      <td>0</td>\n",
       "      <td>1991</td>\n",
       "      <td>0</td>\n",
       "      <td>0</td>\n",
       "      <td>1</td>\n",
       "      <td>1yrs 11mon</td>\n",
       "      <td>1yrs 11mon</td>\n",
       "      <td>0</td>\n",
       "      <td>1</td>\n",
       "    </tr>\n",
       "    <tr>\n",
       "      <th>2</th>\n",
       "      <td>417566</td>\n",
       "      <td>53278</td>\n",
       "      <td>61360</td>\n",
       "      <td>89.63</td>\n",
       "      <td>67</td>\n",
       "      <td>22807</td>\n",
       "      <td>45</td>\n",
       "      <td>1497</td>\n",
       "      <td>24-08-85</td>\n",
       "      <td>Self employed</td>\n",
       "      <td>...</td>\n",
       "      <td>0</td>\n",
       "      <td>0</td>\n",
       "      <td>0</td>\n",
       "      <td>0</td>\n",
       "      <td>0</td>\n",
       "      <td>0</td>\n",
       "      <td>0yrs 0mon</td>\n",
       "      <td>0yrs 0mon</td>\n",
       "      <td>0</td>\n",
       "      <td>0</td>\n",
       "    </tr>\n",
       "    <tr>\n",
       "      <th>3</th>\n",
       "      <td>624493</td>\n",
       "      <td>57513</td>\n",
       "      <td>66113</td>\n",
       "      <td>88.48</td>\n",
       "      <td>67</td>\n",
       "      <td>22807</td>\n",
       "      <td>45</td>\n",
       "      <td>1501</td>\n",
       "      <td>30-12-93</td>\n",
       "      <td>Self employed</td>\n",
       "      <td>...</td>\n",
       "      <td>0</td>\n",
       "      <td>0</td>\n",
       "      <td>31</td>\n",
       "      <td>0</td>\n",
       "      <td>0</td>\n",
       "      <td>0</td>\n",
       "      <td>0yrs 8mon</td>\n",
       "      <td>1yrs 3mon</td>\n",
       "      <td>1</td>\n",
       "      <td>1</td>\n",
       "    </tr>\n",
       "    <tr>\n",
       "      <th>4</th>\n",
       "      <td>539055</td>\n",
       "      <td>52378</td>\n",
       "      <td>60300</td>\n",
       "      <td>88.39</td>\n",
       "      <td>67</td>\n",
       "      <td>22807</td>\n",
       "      <td>45</td>\n",
       "      <td>1495</td>\n",
       "      <td>09-12-77</td>\n",
       "      <td>Self employed</td>\n",
       "      <td>...</td>\n",
       "      <td>0</td>\n",
       "      <td>0</td>\n",
       "      <td>0</td>\n",
       "      <td>0</td>\n",
       "      <td>0</td>\n",
       "      <td>0</td>\n",
       "      <td>0yrs 0mon</td>\n",
       "      <td>0yrs 0mon</td>\n",
       "      <td>1</td>\n",
       "      <td>1</td>\n",
       "    </tr>\n",
       "    <tr>\n",
       "      <th>5</th>\n",
       "      <td>518279</td>\n",
       "      <td>54513</td>\n",
       "      <td>61900</td>\n",
       "      <td>89.66</td>\n",
       "      <td>67</td>\n",
       "      <td>22807</td>\n",
       "      <td>45</td>\n",
       "      <td>1501</td>\n",
       "      <td>08-09-90</td>\n",
       "      <td>Self employed</td>\n",
       "      <td>...</td>\n",
       "      <td>0</td>\n",
       "      <td>0</td>\n",
       "      <td>1347</td>\n",
       "      <td>0</td>\n",
       "      <td>0</td>\n",
       "      <td>0</td>\n",
       "      <td>1yrs 9mon</td>\n",
       "      <td>2yrs 0mon</td>\n",
       "      <td>0</td>\n",
       "      <td>0</td>\n",
       "    </tr>\n",
       "    <tr>\n",
       "      <th>6</th>\n",
       "      <td>529269</td>\n",
       "      <td>46349</td>\n",
       "      <td>61500</td>\n",
       "      <td>76.42</td>\n",
       "      <td>67</td>\n",
       "      <td>22807</td>\n",
       "      <td>45</td>\n",
       "      <td>1502</td>\n",
       "      <td>01-06-88</td>\n",
       "      <td>Salaried</td>\n",
       "      <td>...</td>\n",
       "      <td>0</td>\n",
       "      <td>0</td>\n",
       "      <td>0</td>\n",
       "      <td>0</td>\n",
       "      <td>0</td>\n",
       "      <td>0</td>\n",
       "      <td>0yrs 0mon</td>\n",
       "      <td>0yrs 0mon</td>\n",
       "      <td>0</td>\n",
       "      <td>0</td>\n",
       "    </tr>\n",
       "    <tr>\n",
       "      <th>7</th>\n",
       "      <td>510278</td>\n",
       "      <td>43894</td>\n",
       "      <td>61900</td>\n",
       "      <td>71.89</td>\n",
       "      <td>67</td>\n",
       "      <td>22807</td>\n",
       "      <td>45</td>\n",
       "      <td>1501</td>\n",
       "      <td>04-10-89</td>\n",
       "      <td>Salaried</td>\n",
       "      <td>...</td>\n",
       "      <td>0</td>\n",
       "      <td>0</td>\n",
       "      <td>0</td>\n",
       "      <td>0</td>\n",
       "      <td>0</td>\n",
       "      <td>0</td>\n",
       "      <td>0yrs 2mon</td>\n",
       "      <td>0yrs 2mon</td>\n",
       "      <td>0</td>\n",
       "      <td>0</td>\n",
       "    </tr>\n",
       "    <tr>\n",
       "      <th>8</th>\n",
       "      <td>490213</td>\n",
       "      <td>53713</td>\n",
       "      <td>61973</td>\n",
       "      <td>89.56</td>\n",
       "      <td>67</td>\n",
       "      <td>22807</td>\n",
       "      <td>45</td>\n",
       "      <td>1497</td>\n",
       "      <td>15-11-91</td>\n",
       "      <td>Self employed</td>\n",
       "      <td>...</td>\n",
       "      <td>0</td>\n",
       "      <td>0</td>\n",
       "      <td>0</td>\n",
       "      <td>0</td>\n",
       "      <td>0</td>\n",
       "      <td>0</td>\n",
       "      <td>4yrs 8mon</td>\n",
       "      <td>4yrs 8mon</td>\n",
       "      <td>1</td>\n",
       "      <td>0</td>\n",
       "    </tr>\n",
       "    <tr>\n",
       "      <th>9</th>\n",
       "      <td>510980</td>\n",
       "      <td>52603</td>\n",
       "      <td>61300</td>\n",
       "      <td>86.95</td>\n",
       "      <td>67</td>\n",
       "      <td>22807</td>\n",
       "      <td>45</td>\n",
       "      <td>1492</td>\n",
       "      <td>01-06-68</td>\n",
       "      <td>Salaried</td>\n",
       "      <td>...</td>\n",
       "      <td>0</td>\n",
       "      <td>0</td>\n",
       "      <td>2608</td>\n",
       "      <td>0</td>\n",
       "      <td>0</td>\n",
       "      <td>0</td>\n",
       "      <td>1yrs 7mon</td>\n",
       "      <td>1yrs 7mon</td>\n",
       "      <td>0</td>\n",
       "      <td>0</td>\n",
       "    </tr>\n",
       "  </tbody>\n",
       "</table>\n",
       "<p>10 rows × 41 columns</p>\n",
       "</div>"
      ],
      "text/plain": [
       "   UniqueID  disbursed_amount  asset_cost    ltv  branch_id  supplier_id  \\\n",
       "0    420825             50578       58400  89.55         67        22807   \n",
       "1    537409             47145       65550  73.23         67        22807   \n",
       "2    417566             53278       61360  89.63         67        22807   \n",
       "3    624493             57513       66113  88.48         67        22807   \n",
       "4    539055             52378       60300  88.39         67        22807   \n",
       "5    518279             54513       61900  89.66         67        22807   \n",
       "6    529269             46349       61500  76.42         67        22807   \n",
       "7    510278             43894       61900  71.89         67        22807   \n",
       "8    490213             53713       61973  89.56         67        22807   \n",
       "9    510980             52603       61300  86.95         67        22807   \n",
       "\n",
       "   manufacturer_id  Current_pincode_ID Date.of.Birth Employment.Type  ...  \\\n",
       "0               45                1441      01-01-84        Salaried  ...   \n",
       "1               45                1502      31-07-85   Self employed  ...   \n",
       "2               45                1497      24-08-85   Self employed  ...   \n",
       "3               45                1501      30-12-93   Self employed  ...   \n",
       "4               45                1495      09-12-77   Self employed  ...   \n",
       "5               45                1501      08-09-90   Self employed  ...   \n",
       "6               45                1502      01-06-88        Salaried  ...   \n",
       "7               45                1501      04-10-89        Salaried  ...   \n",
       "8               45                1497      15-11-91   Self employed  ...   \n",
       "9               45                1492      01-06-68        Salaried  ...   \n",
       "\n",
       "  SEC.SANCTIONED.AMOUNT  SEC.DISBURSED.AMOUNT  PRIMARY.INSTAL.AMT  \\\n",
       "0                     0                     0                   0   \n",
       "1                     0                     0                1991   \n",
       "2                     0                     0                   0   \n",
       "3                     0                     0                  31   \n",
       "4                     0                     0                   0   \n",
       "5                     0                     0                1347   \n",
       "6                     0                     0                   0   \n",
       "7                     0                     0                   0   \n",
       "8                     0                     0                   0   \n",
       "9                     0                     0                2608   \n",
       "\n",
       "   SEC.INSTAL.AMT  NEW.ACCTS.IN.LAST.SIX.MONTHS  \\\n",
       "0               0                             0   \n",
       "1               0                             0   \n",
       "2               0                             0   \n",
       "3               0                             0   \n",
       "4               0                             0   \n",
       "5               0                             0   \n",
       "6               0                             0   \n",
       "7               0                             0   \n",
       "8               0                             0   \n",
       "9               0                             0   \n",
       "\n",
       "   DELINQUENT.ACCTS.IN.LAST.SIX.MONTHS  AVERAGE.ACCT.AGE  \\\n",
       "0                                    0         0yrs 0mon   \n",
       "1                                    1        1yrs 11mon   \n",
       "2                                    0         0yrs 0mon   \n",
       "3                                    0         0yrs 8mon   \n",
       "4                                    0         0yrs 0mon   \n",
       "5                                    0         1yrs 9mon   \n",
       "6                                    0         0yrs 0mon   \n",
       "7                                    0         0yrs 2mon   \n",
       "8                                    0         4yrs 8mon   \n",
       "9                                    0         1yrs 7mon   \n",
       "\n",
       "   CREDIT.HISTORY.LENGTH  NO.OF_INQUIRIES  loan_default  \n",
       "0              0yrs 0mon                0             0  \n",
       "1             1yrs 11mon                0             1  \n",
       "2              0yrs 0mon                0             0  \n",
       "3              1yrs 3mon                1             1  \n",
       "4              0yrs 0mon                1             1  \n",
       "5              2yrs 0mon                0             0  \n",
       "6              0yrs 0mon                0             0  \n",
       "7              0yrs 2mon                0             0  \n",
       "8              4yrs 8mon                1             0  \n",
       "9              1yrs 7mon                0             0  \n",
       "\n",
       "[10 rows x 41 columns]"
      ]
     },
     "execution_count": 4,
     "metadata": {},
     "output_type": "execute_result"
    }
   ],
   "source": [
    "# train_df\n",
    "# preview the data\n",
    "\n",
    "train_df.head(10)"
   ]
  },
  {
   "cell_type": "code",
   "execution_count": 5,
   "metadata": {},
   "outputs": [
    {
     "name": "stdout",
     "output_type": "stream",
     "text": [
      "<class 'pandas.core.frame.DataFrame'>\n",
      "RangeIndex: 233154 entries, 0 to 233153\n",
      "Data columns (total 41 columns):\n",
      " #   Column                               Non-Null Count   Dtype  \n",
      "---  ------                               --------------   -----  \n",
      " 0   UniqueID                             233154 non-null  int64  \n",
      " 1   disbursed_amount                     233154 non-null  int64  \n",
      " 2   asset_cost                           233154 non-null  int64  \n",
      " 3   ltv                                  233154 non-null  float64\n",
      " 4   branch_id                            233154 non-null  int64  \n",
      " 5   supplier_id                          233154 non-null  int64  \n",
      " 6   manufacturer_id                      233154 non-null  int64  \n",
      " 7   Current_pincode_ID                   233154 non-null  int64  \n",
      " 8   Date.of.Birth                        233154 non-null  object \n",
      " 9   Employment.Type                      225493 non-null  object \n",
      " 10  DisbursalDate                        233154 non-null  object \n",
      " 11  State_ID                             233154 non-null  int64  \n",
      " 12  Employee_code_ID                     233154 non-null  int64  \n",
      " 13  MobileNo_Avl_Flag                    233154 non-null  int64  \n",
      " 14  Aadhar_flag                          233154 non-null  int64  \n",
      " 15  PAN_flag                             233154 non-null  int64  \n",
      " 16  VoterID_flag                         233154 non-null  int64  \n",
      " 17  Driving_flag                         233154 non-null  int64  \n",
      " 18  Passport_flag                        233154 non-null  int64  \n",
      " 19  PERFORM_CNS.SCORE                    233154 non-null  int64  \n",
      " 20  PERFORM_CNS.SCORE.DESCRIPTION        233154 non-null  object \n",
      " 21  PRI.NO.OF.ACCTS                      233154 non-null  int64  \n",
      " 22  PRI.ACTIVE.ACCTS                     233154 non-null  int64  \n",
      " 23  PRI.OVERDUE.ACCTS                    233154 non-null  int64  \n",
      " 24  PRI.CURRENT.BALANCE                  233154 non-null  int64  \n",
      " 25  PRI.SANCTIONED.AMOUNT                233154 non-null  int64  \n",
      " 26  PRI.DISBURSED.AMOUNT                 233154 non-null  int64  \n",
      " 27  SEC.NO.OF.ACCTS                      233154 non-null  int64  \n",
      " 28  SEC.ACTIVE.ACCTS                     233154 non-null  int64  \n",
      " 29  SEC.OVERDUE.ACCTS                    233154 non-null  int64  \n",
      " 30  SEC.CURRENT.BALANCE                  233154 non-null  int64  \n",
      " 31  SEC.SANCTIONED.AMOUNT                233154 non-null  int64  \n",
      " 32  SEC.DISBURSED.AMOUNT                 233154 non-null  int64  \n",
      " 33  PRIMARY.INSTAL.AMT                   233154 non-null  int64  \n",
      " 34  SEC.INSTAL.AMT                       233154 non-null  int64  \n",
      " 35  NEW.ACCTS.IN.LAST.SIX.MONTHS         233154 non-null  int64  \n",
      " 36  DELINQUENT.ACCTS.IN.LAST.SIX.MONTHS  233154 non-null  int64  \n",
      " 37  AVERAGE.ACCT.AGE                     233154 non-null  object \n",
      " 38  CREDIT.HISTORY.LENGTH                233154 non-null  object \n",
      " 39  NO.OF_INQUIRIES                      233154 non-null  int64  \n",
      " 40  loan_default                         233154 non-null  int64  \n",
      "dtypes: float64(1), int64(34), object(6)\n",
      "memory usage: 72.9+ MB\n"
     ]
    }
   ],
   "source": [
    "# train_df\n",
    "#data info\n",
    "\n",
    "train_df.info(max_cols=1000)"
   ]
  },
  {
   "cell_type": "code",
   "execution_count": 6,
   "metadata": {},
   "outputs": [
    {
     "data": {
      "text/html": [
       "<div>\n",
       "<style scoped>\n",
       "    .dataframe tbody tr th:only-of-type {\n",
       "        vertical-align: middle;\n",
       "    }\n",
       "\n",
       "    .dataframe tbody tr th {\n",
       "        vertical-align: top;\n",
       "    }\n",
       "\n",
       "    .dataframe thead th {\n",
       "        text-align: right;\n",
       "    }\n",
       "</style>\n",
       "<table border=\"1\" class=\"dataframe\">\n",
       "  <thead>\n",
       "    <tr style=\"text-align: right;\">\n",
       "      <th></th>\n",
       "      <th>UniqueID</th>\n",
       "      <th>disbursed_amount</th>\n",
       "      <th>asset_cost</th>\n",
       "      <th>ltv</th>\n",
       "      <th>branch_id</th>\n",
       "      <th>supplier_id</th>\n",
       "      <th>manufacturer_id</th>\n",
       "      <th>Current_pincode_ID</th>\n",
       "      <th>State_ID</th>\n",
       "      <th>Employee_code_ID</th>\n",
       "      <th>...</th>\n",
       "      <th>SEC.OVERDUE.ACCTS</th>\n",
       "      <th>SEC.CURRENT.BALANCE</th>\n",
       "      <th>SEC.SANCTIONED.AMOUNT</th>\n",
       "      <th>SEC.DISBURSED.AMOUNT</th>\n",
       "      <th>PRIMARY.INSTAL.AMT</th>\n",
       "      <th>SEC.INSTAL.AMT</th>\n",
       "      <th>NEW.ACCTS.IN.LAST.SIX.MONTHS</th>\n",
       "      <th>DELINQUENT.ACCTS.IN.LAST.SIX.MONTHS</th>\n",
       "      <th>NO.OF_INQUIRIES</th>\n",
       "      <th>loan_default</th>\n",
       "    </tr>\n",
       "  </thead>\n",
       "  <tbody>\n",
       "    <tr>\n",
       "      <th>count</th>\n",
       "      <td>233154.000000</td>\n",
       "      <td>233154.000000</td>\n",
       "      <td>2.331540e+05</td>\n",
       "      <td>233154.000000</td>\n",
       "      <td>233154.000000</td>\n",
       "      <td>233154.000000</td>\n",
       "      <td>233154.000000</td>\n",
       "      <td>233154.000000</td>\n",
       "      <td>233154.000000</td>\n",
       "      <td>233154.000000</td>\n",
       "      <td>...</td>\n",
       "      <td>233154.000000</td>\n",
       "      <td>2.331540e+05</td>\n",
       "      <td>2.331540e+05</td>\n",
       "      <td>2.331540e+05</td>\n",
       "      <td>2.331540e+05</td>\n",
       "      <td>2.331540e+05</td>\n",
       "      <td>233154.000000</td>\n",
       "      <td>233154.000000</td>\n",
       "      <td>233154.000000</td>\n",
       "      <td>233154.000000</td>\n",
       "    </tr>\n",
       "    <tr>\n",
       "      <th>mean</th>\n",
       "      <td>535917.573376</td>\n",
       "      <td>54356.993528</td>\n",
       "      <td>7.586507e+04</td>\n",
       "      <td>74.746530</td>\n",
       "      <td>72.936094</td>\n",
       "      <td>19638.635035</td>\n",
       "      <td>69.028054</td>\n",
       "      <td>3396.880247</td>\n",
       "      <td>7.262243</td>\n",
       "      <td>1549.477148</td>\n",
       "      <td>...</td>\n",
       "      <td>0.007244</td>\n",
       "      <td>5.427793e+03</td>\n",
       "      <td>7.295923e+03</td>\n",
       "      <td>7.179998e+03</td>\n",
       "      <td>1.310548e+04</td>\n",
       "      <td>3.232684e+02</td>\n",
       "      <td>0.381833</td>\n",
       "      <td>0.097481</td>\n",
       "      <td>0.206615</td>\n",
       "      <td>0.217071</td>\n",
       "    </tr>\n",
       "    <tr>\n",
       "      <th>std</th>\n",
       "      <td>68315.693711</td>\n",
       "      <td>12971.314171</td>\n",
       "      <td>1.894478e+04</td>\n",
       "      <td>11.456636</td>\n",
       "      <td>69.834995</td>\n",
       "      <td>3491.949566</td>\n",
       "      <td>22.141304</td>\n",
       "      <td>2238.147502</td>\n",
       "      <td>4.482230</td>\n",
       "      <td>975.261278</td>\n",
       "      <td>...</td>\n",
       "      <td>0.111079</td>\n",
       "      <td>1.702370e+05</td>\n",
       "      <td>1.831560e+05</td>\n",
       "      <td>1.825925e+05</td>\n",
       "      <td>1.513679e+05</td>\n",
       "      <td>1.555369e+04</td>\n",
       "      <td>0.955107</td>\n",
       "      <td>0.384439</td>\n",
       "      <td>0.706498</td>\n",
       "      <td>0.412252</td>\n",
       "    </tr>\n",
       "    <tr>\n",
       "      <th>min</th>\n",
       "      <td>417428.000000</td>\n",
       "      <td>13320.000000</td>\n",
       "      <td>3.700000e+04</td>\n",
       "      <td>10.030000</td>\n",
       "      <td>1.000000</td>\n",
       "      <td>10524.000000</td>\n",
       "      <td>45.000000</td>\n",
       "      <td>1.000000</td>\n",
       "      <td>1.000000</td>\n",
       "      <td>1.000000</td>\n",
       "      <td>...</td>\n",
       "      <td>0.000000</td>\n",
       "      <td>-5.746470e+05</td>\n",
       "      <td>0.000000e+00</td>\n",
       "      <td>0.000000e+00</td>\n",
       "      <td>0.000000e+00</td>\n",
       "      <td>0.000000e+00</td>\n",
       "      <td>0.000000</td>\n",
       "      <td>0.000000</td>\n",
       "      <td>0.000000</td>\n",
       "      <td>0.000000</td>\n",
       "    </tr>\n",
       "    <tr>\n",
       "      <th>25%</th>\n",
       "      <td>476786.250000</td>\n",
       "      <td>47145.000000</td>\n",
       "      <td>6.571700e+04</td>\n",
       "      <td>68.880000</td>\n",
       "      <td>14.000000</td>\n",
       "      <td>16535.000000</td>\n",
       "      <td>48.000000</td>\n",
       "      <td>1511.000000</td>\n",
       "      <td>4.000000</td>\n",
       "      <td>713.000000</td>\n",
       "      <td>...</td>\n",
       "      <td>0.000000</td>\n",
       "      <td>0.000000e+00</td>\n",
       "      <td>0.000000e+00</td>\n",
       "      <td>0.000000e+00</td>\n",
       "      <td>0.000000e+00</td>\n",
       "      <td>0.000000e+00</td>\n",
       "      <td>0.000000</td>\n",
       "      <td>0.000000</td>\n",
       "      <td>0.000000</td>\n",
       "      <td>0.000000</td>\n",
       "    </tr>\n",
       "    <tr>\n",
       "      <th>50%</th>\n",
       "      <td>535978.500000</td>\n",
       "      <td>53803.000000</td>\n",
       "      <td>7.094600e+04</td>\n",
       "      <td>76.800000</td>\n",
       "      <td>61.000000</td>\n",
       "      <td>20333.000000</td>\n",
       "      <td>86.000000</td>\n",
       "      <td>2970.000000</td>\n",
       "      <td>6.000000</td>\n",
       "      <td>1451.000000</td>\n",
       "      <td>...</td>\n",
       "      <td>0.000000</td>\n",
       "      <td>0.000000e+00</td>\n",
       "      <td>0.000000e+00</td>\n",
       "      <td>0.000000e+00</td>\n",
       "      <td>0.000000e+00</td>\n",
       "      <td>0.000000e+00</td>\n",
       "      <td>0.000000</td>\n",
       "      <td>0.000000</td>\n",
       "      <td>0.000000</td>\n",
       "      <td>0.000000</td>\n",
       "    </tr>\n",
       "    <tr>\n",
       "      <th>75%</th>\n",
       "      <td>595039.750000</td>\n",
       "      <td>60413.000000</td>\n",
       "      <td>7.920175e+04</td>\n",
       "      <td>83.670000</td>\n",
       "      <td>130.000000</td>\n",
       "      <td>23000.000000</td>\n",
       "      <td>86.000000</td>\n",
       "      <td>5677.000000</td>\n",
       "      <td>10.000000</td>\n",
       "      <td>2362.000000</td>\n",
       "      <td>...</td>\n",
       "      <td>0.000000</td>\n",
       "      <td>0.000000e+00</td>\n",
       "      <td>0.000000e+00</td>\n",
       "      <td>0.000000e+00</td>\n",
       "      <td>1.999000e+03</td>\n",
       "      <td>0.000000e+00</td>\n",
       "      <td>0.000000</td>\n",
       "      <td>0.000000</td>\n",
       "      <td>0.000000</td>\n",
       "      <td>0.000000</td>\n",
       "    </tr>\n",
       "    <tr>\n",
       "      <th>max</th>\n",
       "      <td>671084.000000</td>\n",
       "      <td>990572.000000</td>\n",
       "      <td>1.628992e+06</td>\n",
       "      <td>95.000000</td>\n",
       "      <td>261.000000</td>\n",
       "      <td>24803.000000</td>\n",
       "      <td>156.000000</td>\n",
       "      <td>7345.000000</td>\n",
       "      <td>22.000000</td>\n",
       "      <td>3795.000000</td>\n",
       "      <td>...</td>\n",
       "      <td>8.000000</td>\n",
       "      <td>3.603285e+07</td>\n",
       "      <td>3.000000e+07</td>\n",
       "      <td>3.000000e+07</td>\n",
       "      <td>2.564281e+07</td>\n",
       "      <td>4.170901e+06</td>\n",
       "      <td>35.000000</td>\n",
       "      <td>20.000000</td>\n",
       "      <td>36.000000</td>\n",
       "      <td>1.000000</td>\n",
       "    </tr>\n",
       "  </tbody>\n",
       "</table>\n",
       "<p>8 rows × 35 columns</p>\n",
       "</div>"
      ],
      "text/plain": [
       "            UniqueID  disbursed_amount    asset_cost            ltv  \\\n",
       "count  233154.000000     233154.000000  2.331540e+05  233154.000000   \n",
       "mean   535917.573376      54356.993528  7.586507e+04      74.746530   \n",
       "std     68315.693711      12971.314171  1.894478e+04      11.456636   \n",
       "min    417428.000000      13320.000000  3.700000e+04      10.030000   \n",
       "25%    476786.250000      47145.000000  6.571700e+04      68.880000   \n",
       "50%    535978.500000      53803.000000  7.094600e+04      76.800000   \n",
       "75%    595039.750000      60413.000000  7.920175e+04      83.670000   \n",
       "max    671084.000000     990572.000000  1.628992e+06      95.000000   \n",
       "\n",
       "           branch_id    supplier_id  manufacturer_id  Current_pincode_ID  \\\n",
       "count  233154.000000  233154.000000    233154.000000       233154.000000   \n",
       "mean       72.936094   19638.635035        69.028054         3396.880247   \n",
       "std        69.834995    3491.949566        22.141304         2238.147502   \n",
       "min         1.000000   10524.000000        45.000000            1.000000   \n",
       "25%        14.000000   16535.000000        48.000000         1511.000000   \n",
       "50%        61.000000   20333.000000        86.000000         2970.000000   \n",
       "75%       130.000000   23000.000000        86.000000         5677.000000   \n",
       "max       261.000000   24803.000000       156.000000         7345.000000   \n",
       "\n",
       "            State_ID  Employee_code_ID  ...  SEC.OVERDUE.ACCTS  \\\n",
       "count  233154.000000     233154.000000  ...      233154.000000   \n",
       "mean        7.262243       1549.477148  ...           0.007244   \n",
       "std         4.482230        975.261278  ...           0.111079   \n",
       "min         1.000000          1.000000  ...           0.000000   \n",
       "25%         4.000000        713.000000  ...           0.000000   \n",
       "50%         6.000000       1451.000000  ...           0.000000   \n",
       "75%        10.000000       2362.000000  ...           0.000000   \n",
       "max        22.000000       3795.000000  ...           8.000000   \n",
       "\n",
       "       SEC.CURRENT.BALANCE  SEC.SANCTIONED.AMOUNT  SEC.DISBURSED.AMOUNT  \\\n",
       "count         2.331540e+05           2.331540e+05          2.331540e+05   \n",
       "mean          5.427793e+03           7.295923e+03          7.179998e+03   \n",
       "std           1.702370e+05           1.831560e+05          1.825925e+05   \n",
       "min          -5.746470e+05           0.000000e+00          0.000000e+00   \n",
       "25%           0.000000e+00           0.000000e+00          0.000000e+00   \n",
       "50%           0.000000e+00           0.000000e+00          0.000000e+00   \n",
       "75%           0.000000e+00           0.000000e+00          0.000000e+00   \n",
       "max           3.603285e+07           3.000000e+07          3.000000e+07   \n",
       "\n",
       "       PRIMARY.INSTAL.AMT  SEC.INSTAL.AMT  NEW.ACCTS.IN.LAST.SIX.MONTHS  \\\n",
       "count        2.331540e+05    2.331540e+05                 233154.000000   \n",
       "mean         1.310548e+04    3.232684e+02                      0.381833   \n",
       "std          1.513679e+05    1.555369e+04                      0.955107   \n",
       "min          0.000000e+00    0.000000e+00                      0.000000   \n",
       "25%          0.000000e+00    0.000000e+00                      0.000000   \n",
       "50%          0.000000e+00    0.000000e+00                      0.000000   \n",
       "75%          1.999000e+03    0.000000e+00                      0.000000   \n",
       "max          2.564281e+07    4.170901e+06                     35.000000   \n",
       "\n",
       "       DELINQUENT.ACCTS.IN.LAST.SIX.MONTHS  NO.OF_INQUIRIES   loan_default  \n",
       "count                        233154.000000    233154.000000  233154.000000  \n",
       "mean                              0.097481         0.206615       0.217071  \n",
       "std                               0.384439         0.706498       0.412252  \n",
       "min                               0.000000         0.000000       0.000000  \n",
       "25%                               0.000000         0.000000       0.000000  \n",
       "50%                               0.000000         0.000000       0.000000  \n",
       "75%                               0.000000         0.000000       0.000000  \n",
       "max                              20.000000        36.000000       1.000000  \n",
       "\n",
       "[8 rows x 35 columns]"
      ]
     },
     "execution_count": 6,
     "metadata": {},
     "output_type": "execute_result"
    }
   ],
   "source": [
    "# train_df\n",
    "# data describe\n",
    "\n",
    "train_df.describe()"
   ]
  },
  {
   "cell_type": "code",
   "execution_count": 7,
   "metadata": {},
   "outputs": [
    {
     "data": {
      "text/html": [
       "<div>\n",
       "<style scoped>\n",
       "    .dataframe tbody tr th:only-of-type {\n",
       "        vertical-align: middle;\n",
       "    }\n",
       "\n",
       "    .dataframe tbody tr th {\n",
       "        vertical-align: top;\n",
       "    }\n",
       "\n",
       "    .dataframe thead th {\n",
       "        text-align: right;\n",
       "    }\n",
       "</style>\n",
       "<table border=\"1\" class=\"dataframe\">\n",
       "  <thead>\n",
       "    <tr style=\"text-align: right;\">\n",
       "      <th></th>\n",
       "      <th>Date.of.Birth</th>\n",
       "      <th>Employment.Type</th>\n",
       "      <th>DisbursalDate</th>\n",
       "      <th>PERFORM_CNS.SCORE.DESCRIPTION</th>\n",
       "      <th>AVERAGE.ACCT.AGE</th>\n",
       "      <th>CREDIT.HISTORY.LENGTH</th>\n",
       "    </tr>\n",
       "  </thead>\n",
       "  <tbody>\n",
       "    <tr>\n",
       "      <th>count</th>\n",
       "      <td>233154</td>\n",
       "      <td>225493</td>\n",
       "      <td>233154</td>\n",
       "      <td>233154</td>\n",
       "      <td>233154</td>\n",
       "      <td>233154</td>\n",
       "    </tr>\n",
       "    <tr>\n",
       "      <th>unique</th>\n",
       "      <td>15433</td>\n",
       "      <td>2</td>\n",
       "      <td>84</td>\n",
       "      <td>20</td>\n",
       "      <td>192</td>\n",
       "      <td>294</td>\n",
       "    </tr>\n",
       "    <tr>\n",
       "      <th>top</th>\n",
       "      <td>01-01-88</td>\n",
       "      <td>Self employed</td>\n",
       "      <td>31-10-18</td>\n",
       "      <td>No Bureau History Available</td>\n",
       "      <td>0yrs 0mon</td>\n",
       "      <td>0yrs 0mon</td>\n",
       "    </tr>\n",
       "    <tr>\n",
       "      <th>freq</th>\n",
       "      <td>2173</td>\n",
       "      <td>127635</td>\n",
       "      <td>8826</td>\n",
       "      <td>116950</td>\n",
       "      <td>119373</td>\n",
       "      <td>119127</td>\n",
       "    </tr>\n",
       "  </tbody>\n",
       "</table>\n",
       "</div>"
      ],
      "text/plain": [
       "       Date.of.Birth Employment.Type DisbursalDate  \\\n",
       "count         233154          225493        233154   \n",
       "unique         15433               2            84   \n",
       "top         01-01-88   Self employed      31-10-18   \n",
       "freq            2173          127635          8826   \n",
       "\n",
       "       PERFORM_CNS.SCORE.DESCRIPTION AVERAGE.ACCT.AGE CREDIT.HISTORY.LENGTH  \n",
       "count                         233154           233154                233154  \n",
       "unique                            20              192                   294  \n",
       "top      No Bureau History Available        0yrs 0mon             0yrs 0mon  \n",
       "freq                          116950           119373                119127  "
      ]
     },
     "execution_count": 7,
     "metadata": {},
     "output_type": "execute_result"
    }
   ],
   "source": [
    "# train_df\n",
    "# data describe for object\n",
    "\n",
    "categorical_varaibles=train_df.describe(include=['O'])\n",
    "categorical_varaibles"
   ]
  },
  {
   "cell_type": "code",
   "execution_count": 8,
   "metadata": {},
   "outputs": [
    {
     "name": "stdout",
     "output_type": "stream",
     "text": [
      "(112392, 40) (233154, 41)\n"
     ]
    }
   ],
   "source": [
    "print(test_df.shape,train_df.shape)"
   ]
  },
  {
   "cell_type": "markdown",
   "metadata": {},
   "source": [
    "### checking missing values"
   ]
  },
  {
   "cell_type": "code",
   "execution_count": 9,
   "metadata": {},
   "outputs": [
    {
     "name": "stdout",
     "output_type": "stream",
     "text": [
      "UniqueID                               0.000000\n",
      "disbursed_amount                       0.000000\n",
      "asset_cost                             0.000000\n",
      "ltv                                    0.000000\n",
      "branch_id                              0.000000\n",
      "supplier_id                            0.000000\n",
      "manufacturer_id                        0.000000\n",
      "Current_pincode_ID                     0.000000\n",
      "Date.of.Birth                          0.000000\n",
      "Employment.Type                        3.285811\n",
      "DisbursalDate                          0.000000\n",
      "State_ID                               0.000000\n",
      "Employee_code_ID                       0.000000\n",
      "MobileNo_Avl_Flag                      0.000000\n",
      "Aadhar_flag                            0.000000\n",
      "PAN_flag                               0.000000\n",
      "VoterID_flag                           0.000000\n",
      "Driving_flag                           0.000000\n",
      "Passport_flag                          0.000000\n",
      "PERFORM_CNS.SCORE                      0.000000\n",
      "PERFORM_CNS.SCORE.DESCRIPTION          0.000000\n",
      "PRI.NO.OF.ACCTS                        0.000000\n",
      "PRI.ACTIVE.ACCTS                       0.000000\n",
      "PRI.OVERDUE.ACCTS                      0.000000\n",
      "PRI.CURRENT.BALANCE                    0.000000\n",
      "PRI.SANCTIONED.AMOUNT                  0.000000\n",
      "PRI.DISBURSED.AMOUNT                   0.000000\n",
      "SEC.NO.OF.ACCTS                        0.000000\n",
      "SEC.ACTIVE.ACCTS                       0.000000\n",
      "SEC.OVERDUE.ACCTS                      0.000000\n",
      "SEC.CURRENT.BALANCE                    0.000000\n",
      "SEC.SANCTIONED.AMOUNT                  0.000000\n",
      "SEC.DISBURSED.AMOUNT                   0.000000\n",
      "PRIMARY.INSTAL.AMT                     0.000000\n",
      "SEC.INSTAL.AMT                         0.000000\n",
      "NEW.ACCTS.IN.LAST.SIX.MONTHS           0.000000\n",
      "DELINQUENT.ACCTS.IN.LAST.SIX.MONTHS    0.000000\n",
      "AVERAGE.ACCT.AGE                       0.000000\n",
      "CREDIT.HISTORY.LENGTH                  0.000000\n",
      "NO.OF_INQUIRIES                        0.000000\n",
      "loan_default                           0.000000\n",
      "dtype: float64\n"
     ]
    }
   ],
   "source": [
    "#checking missing values(in percentage) in test data\n",
    "print(train_df.isnull().sum()*100/train_df.shape[0])"
   ]
  },
  {
   "cell_type": "code",
   "execution_count": 10,
   "metadata": {},
   "outputs": [
    {
     "name": "stdout",
     "output_type": "stream",
     "text": [
      "UniqueID                               0.000000\n",
      "disbursed_amount                       0.000000\n",
      "asset_cost                             0.000000\n",
      "ltv                                    0.000000\n",
      "branch_id                              0.000000\n",
      "supplier_id                            0.000000\n",
      "manufacturer_id                        0.000000\n",
      "Current_pincode_ID                     0.000000\n",
      "Date.of.Birth                          0.000000\n",
      "Employment.Type                        3.063385\n",
      "DisbursalDate                          0.000000\n",
      "State_ID                               0.000000\n",
      "Employee_code_ID                       0.000000\n",
      "MobileNo_Avl_Flag                      0.000000\n",
      "Aadhar_flag                            0.000000\n",
      "PAN_flag                               0.000000\n",
      "VoterID_flag                           0.000000\n",
      "Driving_flag                           0.000000\n",
      "Passport_flag                          0.000000\n",
      "PERFORM_CNS.SCORE                      0.000000\n",
      "PERFORM_CNS.SCORE.DESCRIPTION          0.000000\n",
      "PRI.NO.OF.ACCTS                        0.000000\n",
      "PRI.ACTIVE.ACCTS                       0.000000\n",
      "PRI.OVERDUE.ACCTS                      0.000000\n",
      "PRI.CURRENT.BALANCE                    0.000000\n",
      "PRI.SANCTIONED.AMOUNT                  0.000000\n",
      "PRI.DISBURSED.AMOUNT                   0.000000\n",
      "SEC.NO.OF.ACCTS                        0.000000\n",
      "SEC.ACTIVE.ACCTS                       0.000000\n",
      "SEC.OVERDUE.ACCTS                      0.000000\n",
      "SEC.CURRENT.BALANCE                    0.000000\n",
      "SEC.SANCTIONED.AMOUNT                  0.000000\n",
      "SEC.DISBURSED.AMOUNT                   0.000000\n",
      "PRIMARY.INSTAL.AMT                     0.000000\n",
      "SEC.INSTAL.AMT                         0.000000\n",
      "NEW.ACCTS.IN.LAST.SIX.MONTHS           0.000000\n",
      "DELINQUENT.ACCTS.IN.LAST.SIX.MONTHS    0.000000\n",
      "AVERAGE.ACCT.AGE                       0.000000\n",
      "CREDIT.HISTORY.LENGTH                  0.000000\n",
      "NO.OF_INQUIRIES                        0.000000\n",
      "dtype: float64\n"
     ]
    }
   ],
   "source": [
    "#checking missing values(in percentage) in test data\n",
    "print(test_df.isnull().sum()*100/test_df.shape[0])"
   ]
  },
  {
   "cell_type": "markdown",
   "metadata": {},
   "source": [
    "#### we can see that in both trian and test data we have one variable that is Employment.Type which has less than 4 percent of missing data we can hence we can do mode imputation for the same "
   ]
  },
  {
   "cell_type": "code",
   "execution_count": 11,
   "metadata": {},
   "outputs": [],
   "source": [
    "train_df = train_df.fillna(train_df.mode().iloc[0])\n",
    "test_df = test_df.fillna(test_df.mode().iloc[0])"
   ]
  },
  {
   "cell_type": "code",
   "execution_count": 12,
   "metadata": {},
   "outputs": [
    {
     "name": "stdout",
     "output_type": "stream",
     "text": [
      "0 0\n"
     ]
    }
   ],
   "source": [
    "print(train_df['Employment.Type'].isnull().sum(),test_df['Employment.Type'].isnull().sum())"
   ]
  },
  {
   "cell_type": "markdown",
   "metadata": {},
   "source": [
    "##### Note :we could have gone for complete case analysis (Removing all records corresponding to the missing value column) but that wouldnt be favorable because we will be losing all the information vital to our analysis as a result of those removed records. so imputation seems to be the best case scenario\n"
   ]
  },
  {
   "cell_type": "code",
   "execution_count": 13,
   "metadata": {},
   "outputs": [
    {
     "data": {
      "text/plain": [
       "(112392, 40)"
      ]
     },
     "execution_count": 13,
     "metadata": {},
     "output_type": "execute_result"
    }
   ],
   "source": [
    "test_df.shape"
   ]
  },
  {
   "cell_type": "code",
   "execution_count": 14,
   "metadata": {},
   "outputs": [
    {
     "data": {
      "text/plain": [
       "(233154, 41)"
      ]
     },
     "execution_count": 14,
     "metadata": {},
     "output_type": "execute_result"
    }
   ],
   "source": [
    "train_df.shape"
   ]
  },
  {
   "cell_type": "markdown",
   "metadata": {},
   "source": [
    "###  checking for unique attributes "
   ]
  },
  {
   "cell_type": "code",
   "execution_count": 15,
   "metadata": {},
   "outputs": [
    {
     "data": {
      "text/plain": [
       "UniqueID                               233154\n",
       "disbursed_amount                        24565\n",
       "asset_cost                              46252\n",
       "ltv                                      6579\n",
       "branch_id                                  82\n",
       "supplier_id                              2953\n",
       "manufacturer_id                            11\n",
       "Current_pincode_ID                       6698\n",
       "Date.of.Birth                           15433\n",
       "Employment.Type                             2\n",
       "DisbursalDate                              84\n",
       "State_ID                                   22\n",
       "Employee_code_ID                         3270\n",
       "MobileNo_Avl_Flag                           1\n",
       "Aadhar_flag                                 2\n",
       "PAN_flag                                    2\n",
       "VoterID_flag                                2\n",
       "Driving_flag                                2\n",
       "Passport_flag                               2\n",
       "PERFORM_CNS.SCORE                         573\n",
       "PERFORM_CNS.SCORE.DESCRIPTION              20\n",
       "PRI.NO.OF.ACCTS                           108\n",
       "PRI.ACTIVE.ACCTS                           40\n",
       "PRI.OVERDUE.ACCTS                          22\n",
       "PRI.CURRENT.BALANCE                     71341\n",
       "PRI.SANCTIONED.AMOUNT                   44390\n",
       "PRI.DISBURSED.AMOUNT                    47909\n",
       "SEC.NO.OF.ACCTS                            37\n",
       "SEC.ACTIVE.ACCTS                           23\n",
       "SEC.OVERDUE.ACCTS                           9\n",
       "SEC.CURRENT.BALANCE                      3246\n",
       "SEC.SANCTIONED.AMOUNT                    2223\n",
       "SEC.DISBURSED.AMOUNT                     2553\n",
       "PRIMARY.INSTAL.AMT                      28067\n",
       "SEC.INSTAL.AMT                           1918\n",
       "NEW.ACCTS.IN.LAST.SIX.MONTHS               26\n",
       "DELINQUENT.ACCTS.IN.LAST.SIX.MONTHS        14\n",
       "AVERAGE.ACCT.AGE                          192\n",
       "CREDIT.HISTORY.LENGTH                     294\n",
       "NO.OF_INQUIRIES                            25\n",
       "loan_default                                2\n",
       "dtype: int64"
      ]
     },
     "execution_count": 15,
     "metadata": {},
     "output_type": "execute_result"
    }
   ],
   "source": [
    "train_df.nunique()"
   ]
  },
  {
   "cell_type": "markdown",
   "metadata": {},
   "source": [
    "#### from the above information we can straightaway say that the variable MobileNo_Avl_Flag is not going to provide any unique information to our predictive since it has only 1 class hence we can drop that variable"
   ]
  },
  {
   "cell_type": "code",
   "execution_count": 16,
   "metadata": {},
   "outputs": [],
   "source": [
    "train_df=train_df.drop(columns ='MobileNo_Avl_Flag')\n"
   ]
  },
  {
   "cell_type": "code",
   "execution_count": 17,
   "metadata": {},
   "outputs": [],
   "source": [
    "test_df=test_df.drop(columns ='MobileNo_Avl_Flag')"
   ]
  },
  {
   "cell_type": "code",
   "execution_count": 18,
   "metadata": {},
   "outputs": [
    {
     "data": {
      "text/html": [
       "<div>\n",
       "<style scoped>\n",
       "    .dataframe tbody tr th:only-of-type {\n",
       "        vertical-align: middle;\n",
       "    }\n",
       "\n",
       "    .dataframe tbody tr th {\n",
       "        vertical-align: top;\n",
       "    }\n",
       "\n",
       "    .dataframe thead th {\n",
       "        text-align: right;\n",
       "    }\n",
       "</style>\n",
       "<table border=\"1\" class=\"dataframe\">\n",
       "  <thead>\n",
       "    <tr style=\"text-align: right;\">\n",
       "      <th></th>\n",
       "      <th>Date.of.Birth</th>\n",
       "      <th>Employment.Type</th>\n",
       "      <th>DisbursalDate</th>\n",
       "      <th>PERFORM_CNS.SCORE.DESCRIPTION</th>\n",
       "      <th>AVERAGE.ACCT.AGE</th>\n",
       "      <th>CREDIT.HISTORY.LENGTH</th>\n",
       "    </tr>\n",
       "  </thead>\n",
       "  <tbody>\n",
       "    <tr>\n",
       "      <th>0</th>\n",
       "      <td>01-01-84</td>\n",
       "      <td>Salaried</td>\n",
       "      <td>03-08-18</td>\n",
       "      <td>No Bureau History Available</td>\n",
       "      <td>0yrs 0mon</td>\n",
       "      <td>0yrs 0mon</td>\n",
       "    </tr>\n",
       "    <tr>\n",
       "      <th>1</th>\n",
       "      <td>31-07-85</td>\n",
       "      <td>Self employed</td>\n",
       "      <td>26-09-18</td>\n",
       "      <td>I-Medium Risk</td>\n",
       "      <td>1yrs 11mon</td>\n",
       "      <td>1yrs 11mon</td>\n",
       "    </tr>\n",
       "    <tr>\n",
       "      <th>2</th>\n",
       "      <td>24-08-85</td>\n",
       "      <td>Self employed</td>\n",
       "      <td>01-08-18</td>\n",
       "      <td>No Bureau History Available</td>\n",
       "      <td>0yrs 0mon</td>\n",
       "      <td>0yrs 0mon</td>\n",
       "    </tr>\n",
       "    <tr>\n",
       "      <th>3</th>\n",
       "      <td>30-12-93</td>\n",
       "      <td>Self employed</td>\n",
       "      <td>26-10-18</td>\n",
       "      <td>L-Very High Risk</td>\n",
       "      <td>0yrs 8mon</td>\n",
       "      <td>1yrs 3mon</td>\n",
       "    </tr>\n",
       "    <tr>\n",
       "      <th>4</th>\n",
       "      <td>09-12-77</td>\n",
       "      <td>Self employed</td>\n",
       "      <td>26-09-18</td>\n",
       "      <td>No Bureau History Available</td>\n",
       "      <td>0yrs 0mon</td>\n",
       "      <td>0yrs 0mon</td>\n",
       "    </tr>\n",
       "  </tbody>\n",
       "</table>\n",
       "</div>"
      ],
      "text/plain": [
       "  Date.of.Birth Employment.Type DisbursalDate PERFORM_CNS.SCORE.DESCRIPTION  \\\n",
       "0      01-01-84        Salaried      03-08-18   No Bureau History Available   \n",
       "1      31-07-85   Self employed      26-09-18                 I-Medium Risk   \n",
       "2      24-08-85   Self employed      01-08-18   No Bureau History Available   \n",
       "3      30-12-93   Self employed      26-10-18              L-Very High Risk   \n",
       "4      09-12-77   Self employed      26-09-18   No Bureau History Available   \n",
       "\n",
       "  AVERAGE.ACCT.AGE CREDIT.HISTORY.LENGTH  \n",
       "0        0yrs 0mon             0yrs 0mon  \n",
       "1       1yrs 11mon            1yrs 11mon  \n",
       "2        0yrs 0mon             0yrs 0mon  \n",
       "3        0yrs 8mon             1yrs 3mon  \n",
       "4        0yrs 0mon             0yrs 0mon  "
      ]
     },
     "execution_count": 18,
     "metadata": {},
     "output_type": "execute_result"
    }
   ],
   "source": [
    "#lets get all the categorical train data present \n",
    "str_cols = train_df.select_dtypes(include = 'object').columns\n",
    "train_df[str_cols].head()"
   ]
  },
  {
   "cell_type": "code",
   "execution_count": 19,
   "metadata": {},
   "outputs": [
    {
     "data": {
      "text/html": [
       "<div>\n",
       "<style scoped>\n",
       "    .dataframe tbody tr th:only-of-type {\n",
       "        vertical-align: middle;\n",
       "    }\n",
       "\n",
       "    .dataframe tbody tr th {\n",
       "        vertical-align: top;\n",
       "    }\n",
       "\n",
       "    .dataframe thead th {\n",
       "        text-align: right;\n",
       "    }\n",
       "</style>\n",
       "<table border=\"1\" class=\"dataframe\">\n",
       "  <thead>\n",
       "    <tr style=\"text-align: right;\">\n",
       "      <th></th>\n",
       "      <th>Date.of.Birth</th>\n",
       "      <th>Employment.Type</th>\n",
       "      <th>DisbursalDate</th>\n",
       "      <th>PERFORM_CNS.SCORE.DESCRIPTION</th>\n",
       "      <th>AVERAGE.ACCT.AGE</th>\n",
       "      <th>CREDIT.HISTORY.LENGTH</th>\n",
       "    </tr>\n",
       "  </thead>\n",
       "  <tbody>\n",
       "    <tr>\n",
       "      <th>0</th>\n",
       "      <td>01-01-74</td>\n",
       "      <td>Salaried</td>\n",
       "      <td>03-11-18</td>\n",
       "      <td>No Bureau History Available</td>\n",
       "      <td>0yrs 0mon</td>\n",
       "      <td>0yrs 0mon</td>\n",
       "    </tr>\n",
       "    <tr>\n",
       "      <th>1</th>\n",
       "      <td>20-05-85</td>\n",
       "      <td>Self employed</td>\n",
       "      <td>20-11-18</td>\n",
       "      <td>C-Very Low Risk</td>\n",
       "      <td>0yrs 8mon</td>\n",
       "      <td>1yrs 0mon</td>\n",
       "    </tr>\n",
       "    <tr>\n",
       "      <th>2</th>\n",
       "      <td>14-10-95</td>\n",
       "      <td>Salaried</td>\n",
       "      <td>29-11-18</td>\n",
       "      <td>No Bureau History Available</td>\n",
       "      <td>0yrs 0mon</td>\n",
       "      <td>0yrs 0mon</td>\n",
       "    </tr>\n",
       "    <tr>\n",
       "      <th>3</th>\n",
       "      <td>01-06-73</td>\n",
       "      <td>Self employed</td>\n",
       "      <td>29-11-18</td>\n",
       "      <td>Not Scored: Only a Guarantor</td>\n",
       "      <td>2yrs 5mon</td>\n",
       "      <td>2yrs 5mon</td>\n",
       "    </tr>\n",
       "    <tr>\n",
       "      <th>4</th>\n",
       "      <td>01-06-72</td>\n",
       "      <td>Salaried</td>\n",
       "      <td>17-11-18</td>\n",
       "      <td>No Bureau History Available</td>\n",
       "      <td>0yrs 0mon</td>\n",
       "      <td>0yrs 0mon</td>\n",
       "    </tr>\n",
       "  </tbody>\n",
       "</table>\n",
       "</div>"
      ],
      "text/plain": [
       "  Date.of.Birth Employment.Type DisbursalDate PERFORM_CNS.SCORE.DESCRIPTION  \\\n",
       "0      01-01-74        Salaried      03-11-18   No Bureau History Available   \n",
       "1      20-05-85   Self employed      20-11-18               C-Very Low Risk   \n",
       "2      14-10-95        Salaried      29-11-18   No Bureau History Available   \n",
       "3      01-06-73   Self employed      29-11-18  Not Scored: Only a Guarantor   \n",
       "4      01-06-72        Salaried      17-11-18   No Bureau History Available   \n",
       "\n",
       "  AVERAGE.ACCT.AGE CREDIT.HISTORY.LENGTH  \n",
       "0        0yrs 0mon             0yrs 0mon  \n",
       "1        0yrs 8mon             1yrs 0mon  \n",
       "2        0yrs 0mon             0yrs 0mon  \n",
       "3        2yrs 5mon             2yrs 5mon  \n",
       "4        0yrs 0mon             0yrs 0mon  "
      ]
     },
     "execution_count": 19,
     "metadata": {},
     "output_type": "execute_result"
    }
   ],
   "source": [
    "#lets get all the categorical test data \n",
    "str_cols = test_df.select_dtypes(include = 'object').columns\n",
    "test_df[str_cols].head()"
   ]
  },
  {
   "cell_type": "markdown",
   "metadata": {},
   "source": [
    "#### here we can see the following insights\n",
    "1. We need to change the date and time related variables  (Date.of.Birth, DisbursalDate,AVERAGE.ACCT.AGE and AVERAGE.ACCT.AGE)  to int \n",
    "2. Employment.Type has 2 classes we need to label encode it \n",
    "3. The beauruea data history is given under the variable PERFORM_CNS.SCORE.DESCRIPTION with 20 distinct classes  we need to figure out a way to encode it such that its acceptable to our model"
   ]
  },
  {
   "cell_type": "code",
   "execution_count": 20,
   "metadata": {},
   "outputs": [
    {
     "data": {
      "text/plain": [
       "UniqueID                                 int64\n",
       "disbursed_amount                         int64\n",
       "asset_cost                               int64\n",
       "ltv                                    float64\n",
       "branch_id                                int64\n",
       "supplier_id                              int64\n",
       "manufacturer_id                          int64\n",
       "Current_pincode_ID                       int64\n",
       "Date.of.Birth                           object\n",
       "Employment.Type                         object\n",
       "DisbursalDate                           object\n",
       "State_ID                                 int64\n",
       "Employee_code_ID                         int64\n",
       "Aadhar_flag                              int64\n",
       "PAN_flag                                 int64\n",
       "VoterID_flag                             int64\n",
       "Driving_flag                             int64\n",
       "Passport_flag                            int64\n",
       "PERFORM_CNS.SCORE                        int64\n",
       "PERFORM_CNS.SCORE.DESCRIPTION           object\n",
       "PRI.NO.OF.ACCTS                          int64\n",
       "PRI.ACTIVE.ACCTS                         int64\n",
       "PRI.OVERDUE.ACCTS                        int64\n",
       "PRI.CURRENT.BALANCE                      int64\n",
       "PRI.SANCTIONED.AMOUNT                    int64\n",
       "PRI.DISBURSED.AMOUNT                     int64\n",
       "SEC.NO.OF.ACCTS                          int64\n",
       "SEC.ACTIVE.ACCTS                         int64\n",
       "SEC.OVERDUE.ACCTS                        int64\n",
       "SEC.CURRENT.BALANCE                      int64\n",
       "SEC.SANCTIONED.AMOUNT                    int64\n",
       "SEC.DISBURSED.AMOUNT                     int64\n",
       "PRIMARY.INSTAL.AMT                       int64\n",
       "SEC.INSTAL.AMT                           int64\n",
       "NEW.ACCTS.IN.LAST.SIX.MONTHS             int64\n",
       "DELINQUENT.ACCTS.IN.LAST.SIX.MONTHS      int64\n",
       "AVERAGE.ACCT.AGE                        object\n",
       "CREDIT.HISTORY.LENGTH                   object\n",
       "NO.OF_INQUIRIES                          int64\n",
       "loan_default                             int64\n",
       "dtype: object"
      ]
     },
     "execution_count": 20,
     "metadata": {},
     "output_type": "execute_result"
    }
   ],
   "source": [
    "train_df.dtypes"
   ]
  },
  {
   "cell_type": "markdown",
   "metadata": {},
   "source": [
    "### converting date and time related variables to int"
   ]
  },
  {
   "cell_type": "code",
   "execution_count": 21,
   "metadata": {},
   "outputs": [],
   "source": [
    "#For our analysis we need to change date of birth to age so that its more relevant and acceptable to the model\n",
    "now = pd.Timestamp('now')\n",
    "train_df['Date.of.Birth'] = pd.to_datetime(train_df['Date.of.Birth'], format='%d-%m-%y')\n",
    "train_df['Date.of.Birth'] = train_df['Date.of.Birth'].where(train_df['Date.of.Birth'] < now, train_df['Date.of.Birth'] -  np.timedelta64(100, 'Y'))\n",
    "train_df['Age'] = (now - train_df['Date.of.Birth']).astype('<m8[Y]')\n",
    "train_df=train_df.drop('Date.of.Birth',axis=1)\n",
    "#doing the same for our test data\n",
    "now = pd.Timestamp('now')\n",
    "test_df['Date.of.Birth'] = pd.to_datetime(test_df['Date.of.Birth'], format='%d-%m-%y')\n",
    "test_df['Date.of.Birth'] = test_df['Date.of.Birth'].where(test_df['Date.of.Birth'] < now, test_df['Date.of.Birth'] -  np.timedelta64(100, 'Y'))\n",
    "test_df['Age'] = (now - test_df['Date.of.Birth']).astype('<m8[Y]')\n",
    "test_df=test_df.drop('Date.of.Birth',axis=1)"
   ]
  },
  {
   "cell_type": "code",
   "execution_count": 22,
   "metadata": {},
   "outputs": [
    {
     "data": {
      "text/plain": [
       "0    36.0\n",
       "1    35.0\n",
       "2    35.0\n",
       "3    26.0\n",
       "4    42.0\n",
       "Name: Age, dtype: float64"
      ]
     },
     "execution_count": 22,
     "metadata": {},
     "output_type": "execute_result"
    }
   ],
   "source": [
    "train_df['Age'].head(5)"
   ]
  },
  {
   "cell_type": "code",
   "execution_count": 23,
   "metadata": {},
   "outputs": [
    {
     "data": {
      "text/plain": [
       "0    46.0\n",
       "1    35.0\n",
       "2    24.0\n",
       "3    47.0\n",
       "4    48.0\n",
       "Name: Age, dtype: float64"
      ]
     },
     "execution_count": 23,
     "metadata": {},
     "output_type": "execute_result"
    }
   ],
   "source": [
    "test_df['Age'].head(5)"
   ]
  },
  {
   "cell_type": "code",
   "execution_count": 24,
   "metadata": {},
   "outputs": [],
   "source": [
    "#For our analysis we need to change date of birth to age so that its more relevant and acceptable to the model\n",
    "now = pd.Timestamp('now')\n",
    "train_df['DisbursalDate'] = pd.to_datetime(train_df['DisbursalDate'], format='%d-%m-%y')\n",
    "train_df['DisbursalDate'] = train_df['DisbursalDate'].where(train_df['DisbursalDate'] < now, train_df['DisbursalDate'] -  np.timedelta64(100, 'Y'))\n",
    "train_df['time_since_loan_dispursed_in_yrs'] = (now - train_df['DisbursalDate']).astype('<m8[Y]')\n",
    "train_df=train_df.drop('DisbursalDate',axis=1)\n",
    "\n",
    "#For our analysis we need to change date of birth to age so that its more relevant and acceptable to the model\n",
    "now = pd.Timestamp('now')\n",
    "test_df['DisbursalDate'] = pd.to_datetime(test_df['DisbursalDate'], format='%d-%m-%y')\n",
    "test_df['DisbursalDate'] = test_df['DisbursalDate'].where(test_df['DisbursalDate'] < now, test_df['DisbursalDate'] -  np.timedelta64(100, 'Y'))\n",
    "test_df['time_since_loan_dispursed_in_yrs'] = (now - test_df['DisbursalDate']).astype('<m8[Y]')\n",
    "test_df=test_df.drop('DisbursalDate',axis=1)"
   ]
  },
  {
   "cell_type": "code",
   "execution_count": 25,
   "metadata": {},
   "outputs": [
    {
     "name": "stdout",
     "output_type": "stream",
     "text": [
      "0    2.0\n",
      "1    2.0\n",
      "2    2.0\n",
      "3    1.0\n",
      "4    2.0\n",
      "5    2.0\n",
      "6    2.0\n",
      "7    2.0\n",
      "8    2.0\n",
      "9    2.0\n",
      "Name: time_since_loan_dispursed_in_yrs, dtype: float64 0    1.0\n",
      "1    1.0\n",
      "2    1.0\n",
      "3    1.0\n",
      "4    1.0\n",
      "5    1.0\n",
      "6    1.0\n",
      "7    1.0\n",
      "8    1.0\n",
      "9    1.0\n",
      "Name: time_since_loan_dispursed_in_yrs, dtype: float64\n"
     ]
    }
   ],
   "source": [
    "print(train_df['time_since_loan_dispursed_in_yrs'].head(10),test_df['time_since_loan_dispursed_in_yrs'].head(10))"
   ]
  },
  {
   "cell_type": "markdown",
   "metadata": {},
   "source": [
    "## so far so good :)"
   ]
  },
  {
   "cell_type": "code",
   "execution_count": 26,
   "metadata": {},
   "outputs": [
    {
     "data": {
      "text/html": [
       "<div>\n",
       "<style scoped>\n",
       "    .dataframe tbody tr th:only-of-type {\n",
       "        vertical-align: middle;\n",
       "    }\n",
       "\n",
       "    .dataframe tbody tr th {\n",
       "        vertical-align: top;\n",
       "    }\n",
       "\n",
       "    .dataframe thead th {\n",
       "        text-align: right;\n",
       "    }\n",
       "</style>\n",
       "<table border=\"1\" class=\"dataframe\">\n",
       "  <thead>\n",
       "    <tr style=\"text-align: right;\">\n",
       "      <th></th>\n",
       "      <th>Employment.Type</th>\n",
       "      <th>PERFORM_CNS.SCORE.DESCRIPTION</th>\n",
       "      <th>AVERAGE.ACCT.AGE</th>\n",
       "      <th>CREDIT.HISTORY.LENGTH</th>\n",
       "    </tr>\n",
       "  </thead>\n",
       "  <tbody>\n",
       "    <tr>\n",
       "      <th>0</th>\n",
       "      <td>Salaried</td>\n",
       "      <td>No Bureau History Available</td>\n",
       "      <td>0yrs 0mon</td>\n",
       "      <td>0yrs 0mon</td>\n",
       "    </tr>\n",
       "    <tr>\n",
       "      <th>1</th>\n",
       "      <td>Self employed</td>\n",
       "      <td>C-Very Low Risk</td>\n",
       "      <td>0yrs 8mon</td>\n",
       "      <td>1yrs 0mon</td>\n",
       "    </tr>\n",
       "    <tr>\n",
       "      <th>2</th>\n",
       "      <td>Salaried</td>\n",
       "      <td>No Bureau History Available</td>\n",
       "      <td>0yrs 0mon</td>\n",
       "      <td>0yrs 0mon</td>\n",
       "    </tr>\n",
       "    <tr>\n",
       "      <th>3</th>\n",
       "      <td>Self employed</td>\n",
       "      <td>Not Scored: Only a Guarantor</td>\n",
       "      <td>2yrs 5mon</td>\n",
       "      <td>2yrs 5mon</td>\n",
       "    </tr>\n",
       "    <tr>\n",
       "      <th>4</th>\n",
       "      <td>Salaried</td>\n",
       "      <td>No Bureau History Available</td>\n",
       "      <td>0yrs 0mon</td>\n",
       "      <td>0yrs 0mon</td>\n",
       "    </tr>\n",
       "  </tbody>\n",
       "</table>\n",
       "</div>"
      ],
      "text/plain": [
       "  Employment.Type PERFORM_CNS.SCORE.DESCRIPTION AVERAGE.ACCT.AGE  \\\n",
       "0        Salaried   No Bureau History Available        0yrs 0mon   \n",
       "1   Self employed               C-Very Low Risk        0yrs 8mon   \n",
       "2        Salaried   No Bureau History Available        0yrs 0mon   \n",
       "3   Self employed  Not Scored: Only a Guarantor        2yrs 5mon   \n",
       "4        Salaried   No Bureau History Available        0yrs 0mon   \n",
       "\n",
       "  CREDIT.HISTORY.LENGTH  \n",
       "0             0yrs 0mon  \n",
       "1             1yrs 0mon  \n",
       "2             0yrs 0mon  \n",
       "3             2yrs 5mon  \n",
       "4             0yrs 0mon  "
      ]
     },
     "execution_count": 26,
     "metadata": {},
     "output_type": "execute_result"
    }
   ],
   "source": [
    "#so whats left now.....lets get all the categorical test data \n",
    "str_cols = test_df.select_dtypes(include = 'object').columns\n",
    "test_df[str_cols].head()"
   ]
  },
  {
   "cell_type": "code",
   "execution_count": 27,
   "metadata": {},
   "outputs": [],
   "source": [
    "#Creating a function for encoding features with only 2 classes (we have only 1 variable like that but still a useful function in case we need in the future)\n",
    "def two_feat_encoding(df_to_transform):\n",
    "    le = LabelEncoder()\n",
    "\n",
    "    for cols in df_to_transform:\n",
    "        if df_to_transform[cols].dtype == 'object':\n",
    "            if len(list(df_to_transform[cols].unique())) == 2:\n",
    "                le.fit(df_to_transform[cols])\n",
    "                df_to_transform[cols] = le.transform(df_to_transform[cols])\n",
    "    return df_to_transform\n",
    "train_df=two_feat_encoding(train_df)\n",
    "test_df=two_feat_encoding(test_df)"
   ]
  },
  {
   "cell_type": "code",
   "execution_count": 28,
   "metadata": {},
   "outputs": [
    {
     "data": {
      "text/html": [
       "<div>\n",
       "<style scoped>\n",
       "    .dataframe tbody tr th:only-of-type {\n",
       "        vertical-align: middle;\n",
       "    }\n",
       "\n",
       "    .dataframe tbody tr th {\n",
       "        vertical-align: top;\n",
       "    }\n",
       "\n",
       "    .dataframe thead th {\n",
       "        text-align: right;\n",
       "    }\n",
       "</style>\n",
       "<table border=\"1\" class=\"dataframe\">\n",
       "  <thead>\n",
       "    <tr style=\"text-align: right;\">\n",
       "      <th></th>\n",
       "      <th>PERFORM_CNS.SCORE.DESCRIPTION</th>\n",
       "      <th>AVERAGE.ACCT.AGE</th>\n",
       "      <th>CREDIT.HISTORY.LENGTH</th>\n",
       "    </tr>\n",
       "  </thead>\n",
       "  <tbody>\n",
       "    <tr>\n",
       "      <th>0</th>\n",
       "      <td>No Bureau History Available</td>\n",
       "      <td>0yrs 0mon</td>\n",
       "      <td>0yrs 0mon</td>\n",
       "    </tr>\n",
       "    <tr>\n",
       "      <th>1</th>\n",
       "      <td>C-Very Low Risk</td>\n",
       "      <td>0yrs 8mon</td>\n",
       "      <td>1yrs 0mon</td>\n",
       "    </tr>\n",
       "    <tr>\n",
       "      <th>2</th>\n",
       "      <td>No Bureau History Available</td>\n",
       "      <td>0yrs 0mon</td>\n",
       "      <td>0yrs 0mon</td>\n",
       "    </tr>\n",
       "    <tr>\n",
       "      <th>3</th>\n",
       "      <td>Not Scored: Only a Guarantor</td>\n",
       "      <td>2yrs 5mon</td>\n",
       "      <td>2yrs 5mon</td>\n",
       "    </tr>\n",
       "    <tr>\n",
       "      <th>4</th>\n",
       "      <td>No Bureau History Available</td>\n",
       "      <td>0yrs 0mon</td>\n",
       "      <td>0yrs 0mon</td>\n",
       "    </tr>\n",
       "  </tbody>\n",
       "</table>\n",
       "</div>"
      ],
      "text/plain": [
       "  PERFORM_CNS.SCORE.DESCRIPTION AVERAGE.ACCT.AGE CREDIT.HISTORY.LENGTH\n",
       "0   No Bureau History Available        0yrs 0mon             0yrs 0mon\n",
       "1               C-Very Low Risk        0yrs 8mon             1yrs 0mon\n",
       "2   No Bureau History Available        0yrs 0mon             0yrs 0mon\n",
       "3  Not Scored: Only a Guarantor        2yrs 5mon             2yrs 5mon\n",
       "4   No Bureau History Available        0yrs 0mon             0yrs 0mon"
      ]
     },
     "execution_count": 28,
     "metadata": {},
     "output_type": "execute_result"
    }
   ],
   "source": [
    "#yet again..... whats left now.....lets get all the categorical test data \n",
    "str_cols = test_df.select_dtypes(include = 'object').columns\n",
    "test_df[str_cols].head()"
   ]
  },
  {
   "cell_type": "code",
   "execution_count": 29,
   "metadata": {},
   "outputs": [],
   "source": [
    "# for PERFORM_CNS_SCORE_DESCRIPTION we can reduce the 20 classes by replacing wherever risk information\n",
    "train_df['PERFORM_CNS.SCORE.DESCRIPTION'].replace(to_replace=['Not Scored: More than 50 active Accounts found','No Bureau History Available','Not Scored: No Activity seen on the customer (Inactive)','Not Scored: No Updates available in last 36 months','Not Enough Info available on the customer','Not Scored: Only a Guarantor','Not Scored: Sufficient History Not Available','Not Scored: Not Enough Info available on the customer'], value= 'No_score', inplace = True)\n",
    "test_df['PERFORM_CNS.SCORE.DESCRIPTION'].replace(to_replace=['Not Scored: More than 50 active Accounts found','No Bureau History Available','Not Scored: No Activity seen on the customer (Inactive)','Not Scored: No Updates available in last 36 months','Not Enough Info available on the customer','Not Scored: Only a Guarantor','Not Scored: Sufficient History Not Available','Not Scored: Not Enough Info available on the customer'], value= 'No_score', inplace = True)\n"
   ]
  },
  {
   "cell_type": "code",
   "execution_count": 30,
   "metadata": {},
   "outputs": [
    {
     "data": {
      "text/plain": [
       "14"
      ]
     },
     "execution_count": 30,
     "metadata": {},
     "output_type": "execute_result"
    }
   ],
   "source": [
    "train_df['PERFORM_CNS.SCORE.DESCRIPTION'].nunique()"
   ]
  },
  {
   "cell_type": "markdown",
   "metadata": {},
   "source": [
    "#### still a lot of classes :(...... lets try to reduce further.."
   ]
  },
  {
   "cell_type": "markdown",
   "metadata": {},
   "source": [
    "#### we can see that within the classes we have 'A-very Low risk', 'B-Very Low risk'......and so one till 'M-Very High risk'  since we trying to simplify our model as much as possible we will reduce these features further. From a finance standpoint a high risk means high Probability of default so we will assign the following values to risk information\n",
    "#### No_score = 0\n",
    "#### 'A-Very Low Risk','B-Very Low Risk','C-Very Low Risk','D-Very Low Risk' = 1\n",
    "#### 'E-Low Risk','F-Low Risk','G-Low Risk' = 2\n",
    "#### 'H-Medium Risk','I-Medium Risk = 3\n",
    "#### 'J-High Risk','K-High Risk' = 4 \n",
    "#### 'L-Very High Risk','M-Very High Risk' = 5\n"
   ]
  },
  {
   "cell_type": "code",
   "execution_count": 31,
   "metadata": {},
   "outputs": [],
   "source": [
    "\n",
    "vlow_risk=['A-Very Low Risk','B-Very Low Risk','C-Very Low Risk','D-Very Low Risk']\n",
    "low_risk= ['E-Low Risk','F-Low Risk','G-Low Risk']\n",
    "mid_risk= ['H-Medium Risk','I-Medium Risk']\n",
    "high_risk= ['J-High Risk','K-High Risk']\n",
    "vhigh_risk=['L-Very High Risk','M-Very High Risk']\n",
    "\n",
    "train_df['PERFORM_CNS.SCORE.DESCRIPTION'].replace(to_replace='No_score',value = 0,inplace = True)\n",
    "test_df['PERFORM_CNS.SCORE.DESCRIPTION'].replace(to_replace='No_score',value = 0,inplace = True)\n",
    "train_df['PERFORM_CNS.SCORE.DESCRIPTION'].replace(to_replace=vlow_risk, value= 1, inplace = True)\n",
    "test_df['PERFORM_CNS.SCORE.DESCRIPTION'].replace(to_replace=vlow_risk, value= 1, inplace = True)\n",
    "train_df['PERFORM_CNS.SCORE.DESCRIPTION'].replace(to_replace=low_risk, value= 2, inplace = True)\n",
    "test_df['PERFORM_CNS.SCORE.DESCRIPTION'].replace(to_replace=low_risk, value= 2, inplace = True)\n",
    "train_df['PERFORM_CNS.SCORE.DESCRIPTION'].replace(to_replace=mid_risk, value= 3, inplace = True)\n",
    "test_df['PERFORM_CNS.SCORE.DESCRIPTION'].replace(to_replace=mid_risk, value= 3, inplace = True)\n",
    "train_df['PERFORM_CNS.SCORE.DESCRIPTION'].replace(to_replace=high_risk, value= 4, inplace = True)\n",
    "test_df['PERFORM_CNS.SCORE.DESCRIPTION'].replace(to_replace=high_risk, value= 4, inplace = True)\n",
    "train_df['PERFORM_CNS.SCORE.DESCRIPTION'].replace(to_replace=vhigh_risk, value= 5, inplace = True)\n",
    "test_df['PERFORM_CNS.SCORE.DESCRIPTION'].replace(to_replace=vhigh_risk, value= 5, inplace = True)\n"
   ]
  },
  {
   "cell_type": "code",
   "execution_count": 32,
   "metadata": {},
   "outputs": [
    {
     "data": {
      "text/plain": [
       "0    0\n",
       "1    1\n",
       "2    0\n",
       "3    0\n",
       "4    0\n",
       "Name: PERFORM_CNS.SCORE.DESCRIPTION, dtype: int64"
      ]
     },
     "execution_count": 32,
     "metadata": {},
     "output_type": "execute_result"
    }
   ],
   "source": [
    "test_df['PERFORM_CNS.SCORE.DESCRIPTION'].head()"
   ]
  },
  {
   "cell_type": "code",
   "execution_count": 33,
   "metadata": {},
   "outputs": [
    {
     "data": {
      "text/html": [
       "<div>\n",
       "<style scoped>\n",
       "    .dataframe tbody tr th:only-of-type {\n",
       "        vertical-align: middle;\n",
       "    }\n",
       "\n",
       "    .dataframe tbody tr th {\n",
       "        vertical-align: top;\n",
       "    }\n",
       "\n",
       "    .dataframe thead th {\n",
       "        text-align: right;\n",
       "    }\n",
       "</style>\n",
       "<table border=\"1\" class=\"dataframe\">\n",
       "  <thead>\n",
       "    <tr style=\"text-align: right;\">\n",
       "      <th></th>\n",
       "      <th>AVERAGE.ACCT.AGE</th>\n",
       "      <th>CREDIT.HISTORY.LENGTH</th>\n",
       "    </tr>\n",
       "  </thead>\n",
       "  <tbody>\n",
       "    <tr>\n",
       "      <th>0</th>\n",
       "      <td>0yrs 0mon</td>\n",
       "      <td>0yrs 0mon</td>\n",
       "    </tr>\n",
       "    <tr>\n",
       "      <th>1</th>\n",
       "      <td>1yrs 11mon</td>\n",
       "      <td>1yrs 11mon</td>\n",
       "    </tr>\n",
       "    <tr>\n",
       "      <th>2</th>\n",
       "      <td>0yrs 0mon</td>\n",
       "      <td>0yrs 0mon</td>\n",
       "    </tr>\n",
       "    <tr>\n",
       "      <th>3</th>\n",
       "      <td>0yrs 8mon</td>\n",
       "      <td>1yrs 3mon</td>\n",
       "    </tr>\n",
       "    <tr>\n",
       "      <th>4</th>\n",
       "      <td>0yrs 0mon</td>\n",
       "      <td>0yrs 0mon</td>\n",
       "    </tr>\n",
       "  </tbody>\n",
       "</table>\n",
       "</div>"
      ],
      "text/plain": [
       "  AVERAGE.ACCT.AGE CREDIT.HISTORY.LENGTH\n",
       "0        0yrs 0mon             0yrs 0mon\n",
       "1       1yrs 11mon            1yrs 11mon\n",
       "2        0yrs 0mon             0yrs 0mon\n",
       "3        0yrs 8mon             1yrs 3mon\n",
       "4        0yrs 0mon             0yrs 0mon"
      ]
     },
     "execution_count": 33,
     "metadata": {},
     "output_type": "execute_result"
    }
   ],
   "source": [
    "#now yet again..... whats left now.....lets get all the categorical train data \n",
    "str_cols = test_df.select_dtypes(include = 'object').columns\n",
    "train_df[str_cols].head()"
   ]
  },
  {
   "cell_type": "code",
   "execution_count": 34,
   "metadata": {},
   "outputs": [],
   "source": [
    "train_df[['AVERAGE.ACCT.AGE_1','AVERAGE.ACCT.AGE_2']]=train_df['AVERAGE.ACCT.AGE'].str.split(expand=True)\n",
    "test_df[['AVERAGE.ACCT.AGE_1','AVERAGE.ACCT.AGE_2']]=test_df['AVERAGE.ACCT.AGE'].str.split(expand=True)\n",
    "train_df=train_df.drop(columns ='AVERAGE.ACCT.AGE')\n",
    "test_df=test_df.drop(columns ='AVERAGE.ACCT.AGE')"
   ]
  },
  {
   "cell_type": "code",
   "execution_count": 35,
   "metadata": {},
   "outputs": [],
   "source": [
    "train_df[['CREDIT.HISTORY.LENGTH_1','CREDIT.HISTORY.LENGTH_2']]=train_df['CREDIT.HISTORY.LENGTH'].str.split(expand=True)\n",
    "test_df[['CREDIT.HISTORY.LENGTH_1','CREDIT.HISTORY.LENGTH_2']]=test_df['CREDIT.HISTORY.LENGTH'].str.split(expand=True)\n",
    "train_df=train_df.drop(columns ='CREDIT.HISTORY.LENGTH')\n",
    "test_df=test_df.drop(columns ='CREDIT.HISTORY.LENGTH')"
   ]
  },
  {
   "cell_type": "code",
   "execution_count": 36,
   "metadata": {},
   "outputs": [
    {
     "data": {
      "text/html": [
       "<div>\n",
       "<style scoped>\n",
       "    .dataframe tbody tr th:only-of-type {\n",
       "        vertical-align: middle;\n",
       "    }\n",
       "\n",
       "    .dataframe tbody tr th {\n",
       "        vertical-align: top;\n",
       "    }\n",
       "\n",
       "    .dataframe thead th {\n",
       "        text-align: right;\n",
       "    }\n",
       "</style>\n",
       "<table border=\"1\" class=\"dataframe\">\n",
       "  <thead>\n",
       "    <tr style=\"text-align: right;\">\n",
       "      <th></th>\n",
       "      <th>AVERAGE.ACCT.AGE_1</th>\n",
       "      <th>AVERAGE.ACCT.AGE_2</th>\n",
       "      <th>CREDIT.HISTORY.LENGTH_1</th>\n",
       "      <th>CREDIT.HISTORY.LENGTH_2</th>\n",
       "    </tr>\n",
       "  </thead>\n",
       "  <tbody>\n",
       "    <tr>\n",
       "      <th>0</th>\n",
       "      <td>0yrs</td>\n",
       "      <td>0mon</td>\n",
       "      <td>0yrs</td>\n",
       "      <td>0mon</td>\n",
       "    </tr>\n",
       "    <tr>\n",
       "      <th>1</th>\n",
       "      <td>1yrs</td>\n",
       "      <td>11mon</td>\n",
       "      <td>1yrs</td>\n",
       "      <td>11mon</td>\n",
       "    </tr>\n",
       "    <tr>\n",
       "      <th>2</th>\n",
       "      <td>0yrs</td>\n",
       "      <td>0mon</td>\n",
       "      <td>0yrs</td>\n",
       "      <td>0mon</td>\n",
       "    </tr>\n",
       "    <tr>\n",
       "      <th>3</th>\n",
       "      <td>0yrs</td>\n",
       "      <td>8mon</td>\n",
       "      <td>1yrs</td>\n",
       "      <td>3mon</td>\n",
       "    </tr>\n",
       "    <tr>\n",
       "      <th>4</th>\n",
       "      <td>0yrs</td>\n",
       "      <td>0mon</td>\n",
       "      <td>0yrs</td>\n",
       "      <td>0mon</td>\n",
       "    </tr>\n",
       "  </tbody>\n",
       "</table>\n",
       "</div>"
      ],
      "text/plain": [
       "  AVERAGE.ACCT.AGE_1 AVERAGE.ACCT.AGE_2 CREDIT.HISTORY.LENGTH_1  \\\n",
       "0               0yrs               0mon                    0yrs   \n",
       "1               1yrs              11mon                    1yrs   \n",
       "2               0yrs               0mon                    0yrs   \n",
       "3               0yrs               8mon                    1yrs   \n",
       "4               0yrs               0mon                    0yrs   \n",
       "\n",
       "  CREDIT.HISTORY.LENGTH_2  \n",
       "0                    0mon  \n",
       "1                   11mon  \n",
       "2                    0mon  \n",
       "3                    3mon  \n",
       "4                    0mon  "
      ]
     },
     "execution_count": 36,
     "metadata": {},
     "output_type": "execute_result"
    }
   ],
   "source": [
    "#so whats left now.....lets get all the categorical test data \n",
    "str_cols = train_df.select_dtypes(include = 'object').columns\n",
    "train_df[str_cols].head()"
   ]
  },
  {
   "cell_type": "code",
   "execution_count": 37,
   "metadata": {},
   "outputs": [],
   "source": [
    "#stripping months and years\n",
    "train_df['CREDIT.HISTORY.LENGTH_1']=train_df['CREDIT.HISTORY.LENGTH_1'].str.strip('yrs')\n",
    "test_df['CREDIT.HISTORY.LENGTH_1']=test_df['CREDIT.HISTORY.LENGTH_1'].str.strip('yrs')\n",
    "train_df['CREDIT.HISTORY.LENGTH_2']=train_df['CREDIT.HISTORY.LENGTH_2'].str.strip('mon')\n",
    "test_df['CREDIT.HISTORY.LENGTH_2']=test_df['CREDIT.HISTORY.LENGTH_2'].str.strip('mon')\n",
    "train_df['AVERAGE.ACCT.AGE_1']=train_df['AVERAGE.ACCT.AGE_1'].str.strip('yrs')\n",
    "test_df['AVERAGE.ACCT.AGE_1']=test_df['AVERAGE.ACCT.AGE_1'].str.strip('yrs')\n",
    "train_df['AVERAGE.ACCT.AGE_2']=train_df['AVERAGE.ACCT.AGE_2'].str.strip('mon')\n",
    "test_df['AVERAGE.ACCT.AGE_2']=test_df['AVERAGE.ACCT.AGE_2'].str.strip('mon')\n",
    "\n",
    "#converting datatype\n",
    "train_df['CREDIT.HISTORY.LENGTH_1'] = train_df['CREDIT.HISTORY.LENGTH_1'].astype(int)\n",
    "test_df['CREDIT.HISTORY.LENGTH_1'] = test_df['CREDIT.HISTORY.LENGTH_1'].astype(int)\n",
    "train_df['CREDIT.HISTORY.LENGTH_2'] = train_df['CREDIT.HISTORY.LENGTH_2'].astype(int)\n",
    "test_df['CREDIT.HISTORY.LENGTH_2'] = test_df['CREDIT.HISTORY.LENGTH_2'].astype(int)\n",
    "train_df['AVERAGE.ACCT.AGE_1'] = train_df['AVERAGE.ACCT.AGE_1'].astype(int)\n",
    "test_df['AVERAGE.ACCT.AGE_1'] = test_df['AVERAGE.ACCT.AGE_1'].astype(int)\n",
    "train_df['AVERAGE.ACCT.AGE_2'] = train_df['AVERAGE.ACCT.AGE_2'].astype(int)\n",
    "test_df['AVERAGE.ACCT.AGE_2'] = test_df['AVERAGE.ACCT.AGE_2'].astype(int)\n",
    "\n",
    "# since we need to conctanate month value lets divide by 12 and round them off\n",
    "train_df['CREDIT.HISTORY.LENGTH_2']=round((train_df['CREDIT.HISTORY.LENGTH_2']/12),2)\n",
    "test_df['CREDIT.HISTORY.LENGTH_2']=round((test_df['CREDIT.HISTORY.LENGTH_2']/12),2)\n",
    "train_df['AVERAGE.ACCT.AGE_2']=round((train_df['AVERAGE.ACCT.AGE_2']/12),2)\n",
    "test_df['AVERAGE.ACCT.AGE_2']=round((test_df['AVERAGE.ACCT.AGE_2']/12),2)\n",
    "\n"
   ]
  },
  {
   "cell_type": "code",
   "execution_count": null,
   "metadata": {},
   "outputs": [],
   "source": []
  },
  {
   "cell_type": "code",
   "execution_count": 38,
   "metadata": {},
   "outputs": [],
   "source": [
    "#concatenating and converting\n",
    "columnss=['AVERAGE.ACCT.AGE_1','AVERAGE.ACCT.AGE_2','CREDIT.HISTORY.LENGTH_1','CREDIT.HISTORY.LENGTH_2']\n",
    "train_df['AVERAGE.ACCT.AGE']= train_df['AVERAGE.ACCT.AGE_1'].astype(float) + train_df['AVERAGE.ACCT.AGE_2'].astype(float)\n",
    "test_df['AVERAGE.ACCT.AGE']= test_df['AVERAGE.ACCT.AGE_1'].astype(float) + test_df['AVERAGE.ACCT.AGE_2'].astype(float)\n",
    "train_df['CREDIT.HISTORY.LENGTH']= train_df['CREDIT.HISTORY.LENGTH_1'].astype(float) + train_df['CREDIT.HISTORY.LENGTH_2'].astype(float)\n",
    "test_df['CREDIT.HISTORY.LENGTH']= test_df['CREDIT.HISTORY.LENGTH_1'].astype(float) + test_df['CREDIT.HISTORY.LENGTH_2'].astype(float)\n",
    "train_df['AVERAGE.ACCT.AGE']=train_df['AVERAGE.ACCT.AGE'].astype(float)\n",
    "test_df['AVERAGE.ACCT.AGE']=test_df['AVERAGE.ACCT.AGE'].astype(float)\n",
    "train_df['CREDIT.HISTORY.LENGTH']=train_df['CREDIT.HISTORY.LENGTH'].astype(float)\n",
    "test_df['CREDIT.HISTORY.LENGTH']=test_df['CREDIT.HISTORY.LENGTH'].astype(float)\n"
   ]
  },
  {
   "cell_type": "code",
   "execution_count": 39,
   "metadata": {},
   "outputs": [
    {
     "data": {
      "text/plain": [
       "0     0.00\n",
       "1     1.92\n",
       "2     0.00\n",
       "3     0.67\n",
       "4     0.00\n",
       "5     1.75\n",
       "6     0.00\n",
       "7     0.17\n",
       "8     4.67\n",
       "9     1.58\n",
       "10    0.58\n",
       "11    2.08\n",
       "Name: AVERAGE.ACCT.AGE, dtype: float64"
      ]
     },
     "execution_count": 39,
     "metadata": {},
     "output_type": "execute_result"
    }
   ],
   "source": [
    "train_df['AVERAGE.ACCT.AGE'].head(12)"
   ]
  },
  {
   "cell_type": "code",
   "execution_count": 40,
   "metadata": {},
   "outputs": [],
   "source": [
    "train_df=train_df.drop(columns=columnss)\n",
    "test_df=test_df.drop(columns=columnss)\n"
   ]
  },
  {
   "cell_type": "code",
   "execution_count": 41,
   "metadata": {},
   "outputs": [
    {
     "data": {
      "text/plain": [
       "Index(['UniqueID', 'disbursed_amount', 'asset_cost', 'ltv', 'branch_id',\n",
       "       'supplier_id', 'manufacturer_id', 'Current_pincode_ID',\n",
       "       'Employment.Type', 'State_ID', 'Employee_code_ID', 'Aadhar_flag',\n",
       "       'PAN_flag', 'VoterID_flag', 'Driving_flag', 'Passport_flag',\n",
       "       'PERFORM_CNS.SCORE', 'PERFORM_CNS.SCORE.DESCRIPTION', 'PRI.NO.OF.ACCTS',\n",
       "       'PRI.ACTIVE.ACCTS', 'PRI.OVERDUE.ACCTS', 'PRI.CURRENT.BALANCE',\n",
       "       'PRI.SANCTIONED.AMOUNT', 'PRI.DISBURSED.AMOUNT', 'SEC.NO.OF.ACCTS',\n",
       "       'SEC.ACTIVE.ACCTS', 'SEC.OVERDUE.ACCTS', 'SEC.CURRENT.BALANCE',\n",
       "       'SEC.SANCTIONED.AMOUNT', 'SEC.DISBURSED.AMOUNT', 'PRIMARY.INSTAL.AMT',\n",
       "       'SEC.INSTAL.AMT', 'NEW.ACCTS.IN.LAST.SIX.MONTHS',\n",
       "       'DELINQUENT.ACCTS.IN.LAST.SIX.MONTHS', 'NO.OF_INQUIRIES',\n",
       "       'loan_default', 'Age', 'time_since_loan_dispursed_in_yrs',\n",
       "       'AVERAGE.ACCT.AGE', 'CREDIT.HISTORY.LENGTH'],\n",
       "      dtype='object')"
      ]
     },
     "execution_count": 41,
     "metadata": {},
     "output_type": "execute_result"
    }
   ],
   "source": [
    "train_df.columns"
   ]
  },
  {
   "cell_type": "code",
   "execution_count": 42,
   "metadata": {},
   "outputs": [
    {
     "data": {
      "text/html": [
       "<div>\n",
       "<style scoped>\n",
       "    .dataframe tbody tr th:only-of-type {\n",
       "        vertical-align: middle;\n",
       "    }\n",
       "\n",
       "    .dataframe tbody tr th {\n",
       "        vertical-align: top;\n",
       "    }\n",
       "\n",
       "    .dataframe thead th {\n",
       "        text-align: right;\n",
       "    }\n",
       "</style>\n",
       "<table border=\"1\" class=\"dataframe\">\n",
       "  <thead>\n",
       "    <tr style=\"text-align: right;\">\n",
       "      <th></th>\n",
       "    </tr>\n",
       "  </thead>\n",
       "  <tbody>\n",
       "    <tr>\n",
       "      <th>0</th>\n",
       "    </tr>\n",
       "    <tr>\n",
       "      <th>1</th>\n",
       "    </tr>\n",
       "    <tr>\n",
       "      <th>2</th>\n",
       "    </tr>\n",
       "    <tr>\n",
       "      <th>3</th>\n",
       "    </tr>\n",
       "    <tr>\n",
       "      <th>4</th>\n",
       "    </tr>\n",
       "  </tbody>\n",
       "</table>\n",
       "</div>"
      ],
      "text/plain": [
       "Empty DataFrame\n",
       "Columns: []\n",
       "Index: [0, 1, 2, 3, 4]"
      ]
     },
     "execution_count": 42,
     "metadata": {},
     "output_type": "execute_result"
    }
   ],
   "source": [
    "#so whats left now.....lets get all the categorical test data \n",
    "str_cols = test_df.select_dtypes(include = 'object').columns\n",
    "test_df[str_cols].head()"
   ]
  },
  {
   "cell_type": "markdown",
   "metadata": {},
   "source": [
    "## Great ! we have completed our task with categorical variables now lets move on to continous variables.....but before that lets check out our target variable"
   ]
  },
  {
   "cell_type": "code",
   "execution_count": 43,
   "metadata": {},
   "outputs": [
    {
     "data": {
      "text/plain": [
       "UniqueID                               233154\n",
       "disbursed_amount                        24565\n",
       "asset_cost                              46252\n",
       "ltv                                      6579\n",
       "branch_id                                  82\n",
       "supplier_id                              2953\n",
       "manufacturer_id                            11\n",
       "Current_pincode_ID                       6698\n",
       "Employment.Type                             2\n",
       "State_ID                                   22\n",
       "Employee_code_ID                         3270\n",
       "Aadhar_flag                                 2\n",
       "PAN_flag                                    2\n",
       "VoterID_flag                                2\n",
       "Driving_flag                                2\n",
       "Passport_flag                               2\n",
       "PERFORM_CNS.SCORE                         573\n",
       "PERFORM_CNS.SCORE.DESCRIPTION               6\n",
       "PRI.NO.OF.ACCTS                           108\n",
       "PRI.ACTIVE.ACCTS                           40\n",
       "PRI.OVERDUE.ACCTS                          22\n",
       "PRI.CURRENT.BALANCE                     71341\n",
       "PRI.SANCTIONED.AMOUNT                   44390\n",
       "PRI.DISBURSED.AMOUNT                    47909\n",
       "SEC.NO.OF.ACCTS                            37\n",
       "SEC.ACTIVE.ACCTS                           23\n",
       "SEC.OVERDUE.ACCTS                           9\n",
       "SEC.CURRENT.BALANCE                      3246\n",
       "SEC.SANCTIONED.AMOUNT                    2223\n",
       "SEC.DISBURSED.AMOUNT                     2553\n",
       "PRIMARY.INSTAL.AMT                      28067\n",
       "SEC.INSTAL.AMT                           1918\n",
       "NEW.ACCTS.IN.LAST.SIX.MONTHS               26\n",
       "DELINQUENT.ACCTS.IN.LAST.SIX.MONTHS        14\n",
       "NO.OF_INQUIRIES                            25\n",
       "loan_default                                2\n",
       "Age                                        49\n",
       "time_since_loan_dispursed_in_yrs            2\n",
       "AVERAGE.ACCT.AGE                          192\n",
       "CREDIT.HISTORY.LENGTH                     294\n",
       "dtype: int64"
      ]
     },
     "execution_count": 43,
     "metadata": {},
     "output_type": "execute_result"
    }
   ],
   "source": [
    "train_df.nunique()"
   ]
  },
  {
   "cell_type": "markdown",
   "metadata": {},
   "source": [
    "## The ID variable dilemma\n",
    "### here we need to look out for ID related variables such as manufacturer id employee id etc. how do we need whether we should select these variables? lets look from a financial standpoint\n",
    "#1 UniqueID - unique id of loan candidate. this is purely nominal and needs to be dropped\n",
    "#2 supplier_id - denotes distinct supplier. needs to be dropped beacuse it is nominal\n",
    "#3 Current_pincode_ID - denotes location and has nothing to do with probablity of default or default prediction will be dropped\n",
    "#4 Branch.id - there are 82 branch.ids denoting 82 seperate branches this variable denotes the branch from which the vehicle was taken .This is purely nominal and has no order at all so we can drop this variable\n",
    "#5 State_ID - Donotes the states registration of the vehicle (like MH for maharashtra , KA for karnataka) this may matter because prices of vehicels vary state to state\n",
    "#6 Employee_code_ID - denotes the respective employee number - purely nominal - dropped\n",
    "#7 VoterID_flag  - certainly will make an impact... should be there in our analysis\n",
    "#8 manufacturer_id - there are 11 such variables and it denotes unique manufacturer for vehicles. this should be considered since prices vary manufacturer to manufacturer\n"
   ]
  },
  {
   "cell_type": "code",
   "execution_count": 44,
   "metadata": {},
   "outputs": [],
   "source": [
    "ids_to_drop = ['UniqueID','supplier_id','Current_pincode_ID','branch_id','Employee_code_ID']\n",
    "train_df=train_df.drop(columns=ids_to_drop)\n",
    "test_df=test_df.drop(columns=ids_to_drop)"
   ]
  },
  {
   "cell_type": "markdown",
   "metadata": {},
   "source": [
    "### lets look at other variables"
   ]
  },
  {
   "cell_type": "code",
   "execution_count": 45,
   "metadata": {},
   "outputs": [
    {
     "data": {
      "text/plain": [
       "disbursed_amount                       24565\n",
       "asset_cost                             46252\n",
       "ltv                                     6579\n",
       "manufacturer_id                           11\n",
       "Employment.Type                            2\n",
       "State_ID                                  22\n",
       "Aadhar_flag                                2\n",
       "PAN_flag                                   2\n",
       "VoterID_flag                               2\n",
       "Driving_flag                               2\n",
       "Passport_flag                              2\n",
       "PERFORM_CNS.SCORE                        573\n",
       "PERFORM_CNS.SCORE.DESCRIPTION              6\n",
       "PRI.NO.OF.ACCTS                          108\n",
       "PRI.ACTIVE.ACCTS                          40\n",
       "PRI.OVERDUE.ACCTS                         22\n",
       "PRI.CURRENT.BALANCE                    71341\n",
       "PRI.SANCTIONED.AMOUNT                  44390\n",
       "PRI.DISBURSED.AMOUNT                   47909\n",
       "SEC.NO.OF.ACCTS                           37\n",
       "SEC.ACTIVE.ACCTS                          23\n",
       "SEC.OVERDUE.ACCTS                          9\n",
       "SEC.CURRENT.BALANCE                     3246\n",
       "SEC.SANCTIONED.AMOUNT                   2223\n",
       "SEC.DISBURSED.AMOUNT                    2553\n",
       "PRIMARY.INSTAL.AMT                     28067\n",
       "SEC.INSTAL.AMT                          1918\n",
       "NEW.ACCTS.IN.LAST.SIX.MONTHS              26\n",
       "DELINQUENT.ACCTS.IN.LAST.SIX.MONTHS       14\n",
       "NO.OF_INQUIRIES                           25\n",
       "loan_default                               2\n",
       "Age                                       49\n",
       "time_since_loan_dispursed_in_yrs           2\n",
       "AVERAGE.ACCT.AGE                         192\n",
       "CREDIT.HISTORY.LENGTH                    294\n",
       "dtype: int64"
      ]
     },
     "execution_count": 45,
     "metadata": {},
     "output_type": "execute_result"
    }
   ],
   "source": [
    "train_df.nunique()"
   ]
  },
  {
   "cell_type": "markdown",
   "metadata": {},
   "source": [
    "## related variables :\n",
    "#1. clearly PERFORM_CNS.SCORE and PERFORM_CNS.SCORE.DESCRIPTION are related lets drop PERFORM_CNS.SCORE since we dont need to 573 type of scores ...thats makes the model a little too complicated\n",
    "#2.PRI.NO.OF.ACCTS contains PRI.ACTIVE.ACCTS, PRI.OVERDUE.ACCTS this should be dropped as it we dont need this extra variable\n",
    "#3 clearly SEC.NO.OF.ACCTS = SEC.OVERDUE.ACCTS + SEC.ACTIVE.ACCTS we can drop this also\n"
   ]
  },
  {
   "cell_type": "code",
   "execution_count": 46,
   "metadata": {},
   "outputs": [],
   "source": [
    "related_to_drop = ['PERFORM_CNS.SCORE','PRI.NO.OF.ACCTS','SEC.NO.OF.ACCTS']\n",
    "train_df=train_df.drop(columns=related_to_drop)\n",
    "test_df=test_df.drop(columns=related_to_drop)"
   ]
  },
  {
   "cell_type": "code",
   "execution_count": 47,
   "metadata": {},
   "outputs": [
    {
     "data": {
      "text/html": [
       "<div>\n",
       "<style scoped>\n",
       "    .dataframe tbody tr th:only-of-type {\n",
       "        vertical-align: middle;\n",
       "    }\n",
       "\n",
       "    .dataframe tbody tr th {\n",
       "        vertical-align: top;\n",
       "    }\n",
       "\n",
       "    .dataframe thead th {\n",
       "        text-align: right;\n",
       "    }\n",
       "</style>\n",
       "<table border=\"1\" class=\"dataframe\">\n",
       "  <thead>\n",
       "    <tr style=\"text-align: right;\">\n",
       "      <th></th>\n",
       "      <th>disbursed_amount</th>\n",
       "      <th>asset_cost</th>\n",
       "      <th>ltv</th>\n",
       "      <th>manufacturer_id</th>\n",
       "      <th>Employment.Type</th>\n",
       "      <th>State_ID</th>\n",
       "      <th>Aadhar_flag</th>\n",
       "      <th>PAN_flag</th>\n",
       "      <th>VoterID_flag</th>\n",
       "      <th>Driving_flag</th>\n",
       "      <th>...</th>\n",
       "      <th>PRIMARY.INSTAL.AMT</th>\n",
       "      <th>SEC.INSTAL.AMT</th>\n",
       "      <th>NEW.ACCTS.IN.LAST.SIX.MONTHS</th>\n",
       "      <th>DELINQUENT.ACCTS.IN.LAST.SIX.MONTHS</th>\n",
       "      <th>NO.OF_INQUIRIES</th>\n",
       "      <th>loan_default</th>\n",
       "      <th>Age</th>\n",
       "      <th>time_since_loan_dispursed_in_yrs</th>\n",
       "      <th>AVERAGE.ACCT.AGE</th>\n",
       "      <th>CREDIT.HISTORY.LENGTH</th>\n",
       "    </tr>\n",
       "  </thead>\n",
       "  <tbody>\n",
       "    <tr>\n",
       "      <th>0</th>\n",
       "      <td>50578</td>\n",
       "      <td>58400</td>\n",
       "      <td>89.55</td>\n",
       "      <td>45</td>\n",
       "      <td>0</td>\n",
       "      <td>6</td>\n",
       "      <td>1</td>\n",
       "      <td>0</td>\n",
       "      <td>0</td>\n",
       "      <td>0</td>\n",
       "      <td>...</td>\n",
       "      <td>0</td>\n",
       "      <td>0</td>\n",
       "      <td>0</td>\n",
       "      <td>0</td>\n",
       "      <td>0</td>\n",
       "      <td>0</td>\n",
       "      <td>36.0</td>\n",
       "      <td>2.0</td>\n",
       "      <td>0.00</td>\n",
       "      <td>0.00</td>\n",
       "    </tr>\n",
       "    <tr>\n",
       "      <th>1</th>\n",
       "      <td>47145</td>\n",
       "      <td>65550</td>\n",
       "      <td>73.23</td>\n",
       "      <td>45</td>\n",
       "      <td>1</td>\n",
       "      <td>6</td>\n",
       "      <td>1</td>\n",
       "      <td>0</td>\n",
       "      <td>0</td>\n",
       "      <td>0</td>\n",
       "      <td>...</td>\n",
       "      <td>1991</td>\n",
       "      <td>0</td>\n",
       "      <td>0</td>\n",
       "      <td>1</td>\n",
       "      <td>0</td>\n",
       "      <td>1</td>\n",
       "      <td>35.0</td>\n",
       "      <td>2.0</td>\n",
       "      <td>1.92</td>\n",
       "      <td>1.92</td>\n",
       "    </tr>\n",
       "    <tr>\n",
       "      <th>2</th>\n",
       "      <td>53278</td>\n",
       "      <td>61360</td>\n",
       "      <td>89.63</td>\n",
       "      <td>45</td>\n",
       "      <td>1</td>\n",
       "      <td>6</td>\n",
       "      <td>1</td>\n",
       "      <td>0</td>\n",
       "      <td>0</td>\n",
       "      <td>0</td>\n",
       "      <td>...</td>\n",
       "      <td>0</td>\n",
       "      <td>0</td>\n",
       "      <td>0</td>\n",
       "      <td>0</td>\n",
       "      <td>0</td>\n",
       "      <td>0</td>\n",
       "      <td>35.0</td>\n",
       "      <td>2.0</td>\n",
       "      <td>0.00</td>\n",
       "      <td>0.00</td>\n",
       "    </tr>\n",
       "    <tr>\n",
       "      <th>3</th>\n",
       "      <td>57513</td>\n",
       "      <td>66113</td>\n",
       "      <td>88.48</td>\n",
       "      <td>45</td>\n",
       "      <td>1</td>\n",
       "      <td>6</td>\n",
       "      <td>1</td>\n",
       "      <td>0</td>\n",
       "      <td>0</td>\n",
       "      <td>0</td>\n",
       "      <td>...</td>\n",
       "      <td>31</td>\n",
       "      <td>0</td>\n",
       "      <td>0</td>\n",
       "      <td>0</td>\n",
       "      <td>1</td>\n",
       "      <td>1</td>\n",
       "      <td>26.0</td>\n",
       "      <td>1.0</td>\n",
       "      <td>0.67</td>\n",
       "      <td>1.25</td>\n",
       "    </tr>\n",
       "  </tbody>\n",
       "</table>\n",
       "<p>4 rows × 32 columns</p>\n",
       "</div>"
      ],
      "text/plain": [
       "   disbursed_amount  asset_cost    ltv  manufacturer_id  Employment.Type  \\\n",
       "0             50578       58400  89.55               45                0   \n",
       "1             47145       65550  73.23               45                1   \n",
       "2             53278       61360  89.63               45                1   \n",
       "3             57513       66113  88.48               45                1   \n",
       "\n",
       "   State_ID  Aadhar_flag  PAN_flag  VoterID_flag  Driving_flag  ...  \\\n",
       "0         6            1         0             0             0  ...   \n",
       "1         6            1         0             0             0  ...   \n",
       "2         6            1         0             0             0  ...   \n",
       "3         6            1         0             0             0  ...   \n",
       "\n",
       "   PRIMARY.INSTAL.AMT  SEC.INSTAL.AMT  NEW.ACCTS.IN.LAST.SIX.MONTHS  \\\n",
       "0                   0               0                             0   \n",
       "1                1991               0                             0   \n",
       "2                   0               0                             0   \n",
       "3                  31               0                             0   \n",
       "\n",
       "   DELINQUENT.ACCTS.IN.LAST.SIX.MONTHS  NO.OF_INQUIRIES  loan_default   Age  \\\n",
       "0                                    0                0             0  36.0   \n",
       "1                                    1                0             1  35.0   \n",
       "2                                    0                0             0  35.0   \n",
       "3                                    0                1             1  26.0   \n",
       "\n",
       "   time_since_loan_dispursed_in_yrs  AVERAGE.ACCT.AGE  CREDIT.HISTORY.LENGTH  \n",
       "0                               2.0              0.00                   0.00  \n",
       "1                               2.0              1.92                   1.92  \n",
       "2                               2.0              0.00                   0.00  \n",
       "3                               1.0              0.67                   1.25  \n",
       "\n",
       "[4 rows x 32 columns]"
      ]
     },
     "execution_count": 47,
     "metadata": {},
     "output_type": "execute_result"
    }
   ],
   "source": [
    "train_df.head(4)"
   ]
  },
  {
   "cell_type": "markdown",
   "metadata": {},
   "source": [
    "## feature selection "
   ]
  },
  {
   "cell_type": "code",
   "execution_count": 48,
   "metadata": {},
   "outputs": [],
   "source": [
    "from sklearn.preprocessing import StandardScaler\n",
    "scaler = StandardScaler()"
   ]
  },
  {
   "cell_type": "code",
   "execution_count": 49,
   "metadata": {},
   "outputs": [
    {
     "data": {
      "text/plain": [
       "StandardScaler()"
      ]
     },
     "execution_count": 49,
     "metadata": {},
     "output_type": "execute_result"
    }
   ],
   "source": [
    "scaler.fit(train_df.drop(columns='loan_default'))\n",
    "scaler.fit(test_df)"
   ]
  },
  {
   "cell_type": "code",
   "execution_count": 50,
   "metadata": {},
   "outputs": [],
   "source": [
    "scaled_values_1=scaler.transform(train_df.drop(columns='loan_default'))\n",
    "scaled_values_2=scaler.transform(test_df)\n"
   ]
  },
  {
   "cell_type": "code",
   "execution_count": 51,
   "metadata": {},
   "outputs": [
    {
     "name": "stdout",
     "output_type": "stream",
     "text": [
      "The shape of normalised numerical data :  (233154, 31)\n",
      "The shape of normalised numerical data :  (112392, 31)\n"
     ]
    }
   ],
   "source": [
    "num_data = list(train_df._get_numeric_data().columns)\n",
    "num_data.remove('loan_default')\n",
    "scaler = StandardScaler()\n",
    "scaler.fit(train_df[num_data])\n",
    "normalized = scaler.transform(train_df[num_data])\n",
    "normalized2 = scaler.transform(test_df[num_data])\n",
    "normalized_train = pd.DataFrame(normalized , columns=num_data)\n",
    "normalized2_test = pd.DataFrame(normalized2 , columns=num_data)\n",
    "print(\"The shape of normalised numerical data : \" , normalized.shape)\n",
    "print(\"The shape of normalised numerical data : \" , normalized2.shape)"
   ]
  },
  {
   "cell_type": "code",
   "execution_count": 52,
   "metadata": {},
   "outputs": [],
   "source": [
    "#adding our predictor variable\n",
    "normalized_train['loan_default']=train_df['loan_default']\n"
   ]
  },
  {
   "cell_type": "markdown",
   "metadata": {},
   "source": [
    "## now lets go ahead and select top 15 features from this using tree selection method"
   ]
  },
  {
   "cell_type": "code",
   "execution_count": 53,
   "metadata": {},
   "outputs": [],
   "source": [
    "normalized_train.head(2)\n",
    "X=normalized_train.drop(columns='loan_default')\n",
    "y=normalized_train['loan_default']"
   ]
  },
  {
   "cell_type": "code",
   "execution_count": 54,
   "metadata": {},
   "outputs": [
    {
     "data": {
      "text/plain": [
       "ExtraTreesClassifier()"
      ]
     },
     "execution_count": 54,
     "metadata": {},
     "output_type": "execute_result"
    }
   ],
   "source": [
    "from sklearn.ensemble import ExtraTreesClassifier\n",
    "import matplotlib.pyplot as plt\n",
    "model = ExtraTreesClassifier()\n",
    "model.fit(X,y)"
   ]
  },
  {
   "cell_type": "code",
   "execution_count": 55,
   "metadata": {},
   "outputs": [
    {
     "name": "stdout",
     "output_type": "stream",
     "text": [
      "[0.14688197 0.1450729  0.15433825 0.03802491 0.00812318 0.06843372\n",
      " 0.00368516 0.00576882 0.00374928 0.00250998 0.00044667 0.01892011\n",
      " 0.02144182 0.0101405  0.02813734 0.02786478 0.02785812 0.00191957\n",
      " 0.00120185 0.00164318 0.00176096 0.00176246 0.03099747 0.00208015\n",
      " 0.01578654 0.00958684 0.02327707 0.12273753 0.00636195 0.03432742\n",
      " 0.03515951]\n"
     ]
    }
   ],
   "source": [
    "print(model.feature_importances_) #use inbuilt class feature_importances of tree based classifiers"
   ]
  },
  {
   "cell_type": "code",
   "execution_count": 56,
   "metadata": {},
   "outputs": [
    {
     "data": {
      "image/png": "[encoded data removed]",
      "text/plain": [
       "<Figure size 432x288 with 1 Axes>"
      ]
     },
     "metadata": {
      "needs_background": "light"
     },
     "output_type": "display_data"
    }
   ],
   "source": [
    "#plot graph of feature importances for better visualization\n",
    "feat_importances = pd.Series(model.feature_importances_, index=X.columns)\n",
    "feat_importances.nlargest(15).plot(kind='barh')\n",
    "plt.show()"
   ]
  },
  {
   "cell_type": "markdown",
   "metadata": {},
   "source": [
    "#### we will select these variables for our analysis"
   ]
  },
  {
   "cell_type": "code",
   "execution_count": 57,
   "metadata": {},
   "outputs": [
    {
     "data": {
      "text/plain": [
       "ltv                              0.154338\n",
       "disbursed_amount                 0.146882\n",
       "asset_cost                       0.145073\n",
       "Age                              0.122738\n",
       "State_ID                         0.068434\n",
       "manufacturer_id                  0.038025\n",
       "CREDIT.HISTORY.LENGTH            0.035160\n",
       "AVERAGE.ACCT.AGE                 0.034327\n",
       "PRIMARY.INSTAL.AMT               0.030997\n",
       "PRI.CURRENT.BALANCE              0.028137\n",
       "PRI.SANCTIONED.AMOUNT            0.027865\n",
       "PRI.DISBURSED.AMOUNT             0.027858\n",
       "NO.OF_INQUIRIES                  0.023277\n",
       "PRI.ACTIVE.ACCTS                 0.021442\n",
       "PERFORM_CNS.SCORE.DESCRIPTION    0.018920\n",
       "dtype: float64"
      ]
     },
     "execution_count": 57,
     "metadata": {},
     "output_type": "execute_result"
    }
   ],
   "source": [
    "feat_importances.nlargest(15)"
   ]
  },
  {
   "cell_type": "code",
   "execution_count": 58,
   "metadata": {},
   "outputs": [],
   "source": [
    "# here we will select the top 10 variables\n",
    "new_train_df=train_df[['ltv','disbursed_amount','asset_cost','Age','State_ID','manufacturer_id','CREDIT.HISTORY.LENGTH','AVERAGE.ACCT.AGE','PRIMARY.INSTAL.AMT','PRI.CURRENT.BALANCE','PRI.DISBURSED.AMOUNT','PRI.SANCTIONED.AMOUNT','NO.OF_INQUIRIES','PRI.ACTIVE.ACCTS','PERFORM_CNS.SCORE.DESCRIPTION','loan_default']]\n",
    "new_test_df=test_df[['ltv','disbursed_amount','asset_cost','Age','State_ID','manufacturer_id','CREDIT.HISTORY.LENGTH','AVERAGE.ACCT.AGE','PRIMARY.INSTAL.AMT','PRI.CURRENT.BALANCE','PRI.DISBURSED.AMOUNT','PRI.SANCTIONED.AMOUNT','NO.OF_INQUIRIES','PRI.ACTIVE.ACCTS','PERFORM_CNS.SCORE.DESCRIPTION']]"
   ]
  },
  {
   "cell_type": "markdown",
   "metadata": {},
   "source": [
    "## we can now finally move to training our model \n",
    "\n",
    "## 1. Tree Based Models"
   ]
  },
  {
   "cell_type": "code",
   "execution_count": 59,
   "metadata": {},
   "outputs": [
    {
     "data": {
      "text/plain": [
       "Index(['ltv', 'disbursed_amount', 'asset_cost', 'Age', 'State_ID',\n",
       "       'manufacturer_id', 'CREDIT.HISTORY.LENGTH', 'AVERAGE.ACCT.AGE',\n",
       "       'PRIMARY.INSTAL.AMT', 'PRI.CURRENT.BALANCE', 'PRI.DISBURSED.AMOUNT',\n",
       "       'PRI.SANCTIONED.AMOUNT', 'NO.OF_INQUIRIES', 'PRI.ACTIVE.ACCTS',\n",
       "       'PERFORM_CNS.SCORE.DESCRIPTION', 'loan_default'],\n",
       "      dtype='object')"
      ]
     },
     "execution_count": 59,
     "metadata": {},
     "output_type": "execute_result"
    }
   ],
   "source": [
    "new_train_df.columns"
   ]
  },
  {
   "cell_type": "code",
   "execution_count": 60,
   "metadata": {},
   "outputs": [],
   "source": [
    "X=new_train_df.drop(columns='loan_default')\n",
    "y=new_train_df['loan_default']"
   ]
  },
  {
   "cell_type": "code",
   "execution_count": 61,
   "metadata": {},
   "outputs": [],
   "source": [
    "def model_performance(model):\n",
    "    model.fit(X_train,y_train)\n",
    "    RF_training_labels = model.predict(X_train)\n",
    "    RF_test_labels = model.predict(X_test)\n",
    "    Training_accuracy = model.score(X_train, y_train, sample_weight=None)\n",
    "    Test_accuracy = model.score(X_test, y_test, sample_weight=None)\n",
    "    F1_score_train = f1_score(y_train, RF_training_labels, average = 'weighted')\n",
    "    F1_score_test = f1_score(y_test, RF_test_labels, average = 'weighted')\n",
    "    Recall_train = recall_score(y_train, RF_training_labels, average = 'weighted') \n",
    "    Recall_test  = recall_score(y_test, RF_test_labels, average = 'weighted') \n",
    "    Precision_train = precision_score(y_train, RF_training_labels, average = 'weighted')\n",
    "    Precision_test = precision_score(y_test, RF_test_labels, average = 'weighted')\n",
    "    accuracy_train = accuracy_score(y_train, RF_training_labels, )\n",
    "    accuracy_test = accuracy_score(y_test, RF_test_labels)\n",
    "    rf_cm_tr = confusion_matrix(y_train, RF_training_labels)\n",
    "    rf_cm_te = confusion_matrix(y_test, RF_test_labels)\n",
    "    print(\"Training_accuracy - \", Training_accuracy)\n",
    "    print(\"Test_accuracy - \", Test_accuracy)\n",
    "    print(\"F1_score_train - \", F1_score_train)\n",
    "    print(\"F1_score_test - \", F1_score_test)\n",
    "    print(\"Recall_train - \", Recall_train)\n",
    "    print(\"Recall_test - \", Recall_test)\n",
    "    print(\"Precision_train - \", Precision_train)\n",
    "    print(\"Precision_test - \", Precision_test)\n",
    "    #Confusion Matrix\n",
    "    class_names=[0,1] # name  of classes\n",
    "    fig, ax = plt.subplots()\n",
    "    tick_marks = np.arange(len(class_names))\n",
    "    plt.xticks(tick_marks, class_names)\n",
    "    plt.yticks(tick_marks, class_names)\n",
    "    # create heatmap\n",
    "    sns.heatmap(pd.DataFrame(rf_cm_te), annot=True, cmap=\"YlGnBu\" ,fmt='g')\n",
    "    ax.xaxis.set_label_position(\"top\")\n",
    "    plt.tight_layout()\n",
    "    plt.title('Test Confusion matrix', y=1.1)\n",
    "    plt.ylabel('Actual label')\n",
    "    plt.xlabel('Predicted label')\n",
    "\n",
    "    "
   ]
  },
  {
   "cell_type": "markdown",
   "metadata": {},
   "source": [
    "## Model fitting"
   ]
  },
  {
   "cell_type": "code",
   "execution_count": 62,
   "metadata": {},
   "outputs": [
    {
     "name": "stdout",
     "output_type": "stream",
     "text": [
      "Training_accuracy -  0.9991850839731139\n",
      "Test_accuracy -  0.6675625830986318\n",
      "F1_score_train -  0.9991845957078178\n",
      "F1_score_test -  0.6714622135778423\n",
      "Recall_train -  0.9991850839731139\n",
      "Recall_test -  0.6675625830986318\n",
      "Precision_train -  0.9991856218129976\n",
      "Precision_test -  0.675599728801509\n",
      "None\n",
      "Training_accuracy -  0.9740452309030863\n",
      "Test_accuracy -  0.7586029422276866\n",
      "F1_score_train -  0.9734737702782055\n",
      "F1_score_test -  0.7022277242263882\n",
      "Recall_train -  0.9740452309030863\n",
      "Recall_test -  0.7586029422276866\n",
      "Precision_train -  0.9746945040355879\n",
      "Precision_test -  0.683708652372277\n",
      "None\n",
      "Training_accuracy -  0.9991789567849418\n",
      "Test_accuracy -  0.7723705090997469\n",
      "F1_score_train -  0.9991787384453799\n",
      "F1_score_test -  0.6984221910660096\n",
      "Recall_train -  0.9991789567849418\n",
      "Recall_test -  0.7723705090997469\n",
      "Precision_train -  0.999178818839259\n",
      "Precision_test -  0.6876222260642862\n",
      "None\n",
      "Training_accuracy -  0.7828585783698003\n",
      "Test_accuracy -  0.7820635624115402\n",
      "F1_score_train -  0.6898085281412234\n",
      "F1_score_test -  0.6889142905837855\n",
      "Recall_train -  0.7828585783698003\n",
      "Recall_test -  0.7820635624115402\n",
      "Precision_train -  0.7087768923406479\n",
      "Precision_test -  0.7086652549033289\n",
      "None\n",
      "Training_accuracy -  0.7832445912246411\n",
      "Test_accuracy -  0.782435272420547\n",
      "F1_score_train -  0.6882600309264915\n",
      "F1_score_test -  0.6872858997314747\n",
      "Recall_train -  0.7832445912246411\n",
      "Recall_test -  0.782435272420547\n",
      "Precision_train -  0.7599389817223611\n",
      "Precision_test -  0.7377711039621503\n",
      "None\n",
      "Training_accuracy -  0.7776075781063312\n",
      "Test_accuracy -  0.7771169599839879\n",
      "F1_score_train -  0.6868056734535979\n",
      "F1_score_test -  0.6859504777894414\n",
      "Recall_train -  0.7776075781063312\n",
      "Recall_test -  0.7771169599839879\n",
      "Precision_train -  0.639060141175619\n",
      "Precision_test -  0.6400312871897277\n",
      "None\n"
     ]
    },
    {
     "data": {
      "image/png": "[encoded data removed]",
      "text/plain": [
       "<Figure size 432x288 with 2 Axes>"
      ]
     },
     "metadata": {
      "needs_background": "light"
     },
     "output_type": "display_data"
    },
    {
     "data": {
      "image/png": "[encoded data removed]",
      "text/plain": [
       "<Figure size 432x288 with 2 Axes>"
      ]
     },
     "metadata": {
      "needs_background": "light"
     },
     "output_type": "display_data"
    },
    {
     "data": {
      "image/png": "[encoded data removed]",
      "text/plain": [
       "<Figure size 432x288 with 2 Axes>"
      ]
     },
     "metadata": {
      "needs_background": "light"
     },
     "output_type": "display_data"
    },
    {
     "data": {
      "image/png": "[encoded data removed]",
      "text/plain": [
       "<Figure size 432x288 with 2 Axes>"
      ]
     },
     "metadata": {
      "needs_background": "light"
     },
     "output_type": "display_data"
    },
    {
     "data": {
      "image/png": "[encoded data removed]",
      "text/plain": [
       "<Figure size 432x288 with 2 Axes>"
      ]
     },
     "metadata": {
      "needs_background": "light"
     },
     "output_type": "display_data"
    },
    {
     "data": {
      "image/png": "[encoded data removed]",
      "text/plain": [
       "<Figure size 432x288 with 2 Axes>"
      ]
     },
     "metadata": {
      "needs_background": "light"
     },
     "output_type": "display_data"
    }
   ],
   "source": [
    "\n",
    "from sklearn.model_selection import train_test_split\n",
    "X_train, X_test, y_train, y_test = train_test_split(X,y,test_size=0.3)\n",
    "\n",
    "len(X_train)\n",
    "len(X_test)\n",
    "\n",
    "\n",
    "\n",
    "m1 = tree.DecisionTreeClassifier()\n",
    "m2 = BaggingClassifier()\n",
    "m3 = RandomForestClassifier()\n",
    "m4 = AdaBoostClassifier()\n",
    "m5 = GradientBoostingClassifier()\n",
    "m6= GaussianNB()\n",
    "\n",
    "models=[m1,m2,m3,m4,m5,m6]\n",
    "\n",
    "for i in range(0,len(models)):\n",
    "   print(model_performance(models[i]))\n",
    "    \n"
   ]
  },
  {
   "cell_type": "markdown",
   "metadata": {},
   "source": [
    "### Here we will select the model that has high accuracy, high TN and FN and equal ration of FP and FN .. so now lets look at \n",
    "\n",
    "#1 DT : this model looks good as it has high TP and almost equal ratio of FN and FP but it has low TN\n",
    "#2 Bagging : Ratio of FN and FP is high ---need to discard\n",
    "#3 RandomForestClassifier : Ratio of FN and FP is high ---need to discard\n",
    "#4 AdaBoostClassifier :Ratio of FN and FP is high ---need to discard\n",
    "#5 Gradient Boosting : Ratio of FN and FP is high ---need to discard\n",
    "#6 GNB : very high amount of FP we will discard this model\n",
    "\n",
    "### hence here we can only go with DT rest all models will certainly misclassify . we can try pruning for imrpving the model but before lets try distance based models\n",
    "\n",
    "### note: here hyper parameter optimization for ensemble models was not possible because my pc was overheating and was taking a lot of time during the tuning process\n",
    "\n"
   ]
  },
  {
   "cell_type": "markdown",
   "metadata": {},
   "source": [
    "## 2. Distance based models\n"
   ]
  },
  {
   "cell_type": "code",
   "execution_count": 63,
   "metadata": {},
   "outputs": [],
   "source": [
    "from sklearn.linear_model import LogisticRegression\n",
    "from sklearn.neighbors import KNeighborsClassifier\n",
    "from sklearn.discriminant_analysis import LinearDiscriminantAnalysis"
   ]
  },
  {
   "cell_type": "code",
   "execution_count": 64,
   "metadata": {},
   "outputs": [],
   "source": [
    "from sklearn.model_selection import train_test_split\n",
    "X_train, X_test, y_train, y_test = train_test_split(X,y,test_size=0.2)"
   ]
  },
  {
   "cell_type": "code",
   "execution_count": 65,
   "metadata": {},
   "outputs": [
    {
     "name": "stderr",
     "output_type": "stream",
     "text": [
      "D:\\anaconda\\lib\\site-packages\\sklearn\\metrics\\_classification.py:1221: UndefinedMetricWarning: Precision is ill-defined and being set to 0.0 in labels with no predicted samples. Use `zero_division` parameter to control this behavior.\n",
      "  _warn_prf(average, modifier, msg_start, len(result))\n"
     ]
    },
    {
     "name": "stdout",
     "output_type": "stream",
     "text": [
      "Training_accuracy -  0.7824021702417396\n",
      "Test_accuracy -  0.785035705860908\n",
      "F1_score_train -  0.6868957069205921\n",
      "F1_score_test -  0.6904971787993526\n",
      "Recall_train -  0.7824021702417396\n",
      "Recall_test -  0.785035705860908\n",
      "Precision_train -  0.7209544400705472\n",
      "Precision_test -  0.616281059476534\n",
      "None\n",
      "Training_accuracy -  0.8057880261415482\n",
      "Test_accuracy -  0.7423602324633827\n",
      "F1_score_train -  0.7712967597991341\n",
      "F1_score_test -  0.6973520852886791\n",
      "Recall_train -  0.8057880261415482\n",
      "Recall_test -  0.7423602324633827\n",
      "Precision_train -  0.7813254954947163\n",
      "Precision_test -  0.6738161306215947\n",
      "None\n"
     ]
    },
    {
     "data": {
      "image/png": "[encoded data removed]",
      "text/plain": [
       "<Figure size 432x288 with 2 Axes>"
      ]
     },
     "metadata": {
      "needs_background": "light"
     },
     "output_type": "display_data"
    },
    {
     "data": {
      "image/png": "[encoded data removed]",
      "text/plain": [
       "<Figure size 432x288 with 2 Axes>"
      ]
     },
     "metadata": {
      "needs_background": "light"
     },
     "output_type": "display_data"
    }
   ],
   "source": [
    "m1 = LogisticRegression()\n",
    "m2 = KNeighborsClassifier()\n",
    "\n",
    "models=[m1,m2]\n",
    "for i in range(0,len(models)):\n",
    "   print(model_performance(models[i]))"
   ]
  },
  {
   "cell_type": "markdown",
   "metadata": {},
   "source": [
    "## Here we can see that KNN performs better however not as good as DT so hence we will "
   ]
  },
  {
   "cell_type": "markdown",
   "metadata": {},
   "source": [
    "## pruning "
   ]
  },
  {
   "cell_type": "code",
   "execution_count": 66,
   "metadata": {},
   "outputs": [
    {
     "data": {
      "text/plain": [
       "DecisionTreeClassifier(random_state=0)"
      ]
     },
     "execution_count": 66,
     "metadata": {},
     "output_type": "execute_result"
    }
   ],
   "source": [
    "\n",
    "clf = DecisionTreeClassifier(random_state=0)\n",
    "clf.fit(X_train,y_train)"
   ]
  },
  {
   "cell_type": "code",
   "execution_count": 67,
   "metadata": {},
   "outputs": [],
   "source": [
    "path = clf.cost_complexity_pruning_path(X_train, y_train)\n",
    "ccp_alphas, impurities = path.ccp_alphas, path.impurities"
   ]
  },
  {
   "cell_type": "code",
   "execution_count": 68,
   "metadata": {},
   "outputs": [
    {
     "data": {
      "text/plain": [
       "array([0.        , 0.        , 0.        , ..., 0.00085706, 0.00122154,\n",
       "       0.00270908])"
      ]
     },
     "execution_count": 68,
     "metadata": {},
     "output_type": "execute_result"
    }
   ],
   "source": [
    "ccp_alphas"
   ]
  },
  {
   "cell_type": "code",
   "execution_count": 69,
   "metadata": {},
   "outputs": [],
   "source": [
    "\n",
    "#clfs = []\n",
    "#for ccp_alpha in ccp_alphas:\n",
    "#    clf = DecisionTreeClassifier(random_state=0, ccp_alpha=ccp_alpha)\n",
    "#    clf.fit(X_train, y_train)\n",
    "#    clfs.append(clf)\n",
    "#print(\"Number of nodes in the last tree is: {} with ccp_alpha: {}\".format(\n",
    "#      clfs[-1].tree_.node_count, ccp_alphas[-1]))"
   ]
  },
  {
   "cell_type": "markdown",
   "metadata": {},
   "source": [
    "## the above steps have taken a lot of time and yielded no results since the dataset is large its diffcult to do DT prunining hence training the model as it is"
   ]
  },
  {
   "cell_type": "code",
   "execution_count": 70,
   "metadata": {},
   "outputs": [],
   "source": [
    "predictions = clf.predict(new_test_df)"
   ]
  },
  {
   "cell_type": "code",
   "execution_count": 71,
   "metadata": {},
   "outputs": [],
   "source": [
    "y_pred=pd.DataFrame(predictions)"
   ]
  },
  {
   "cell_type": "code",
   "execution_count": 72,
   "metadata": {},
   "outputs": [
    {
     "name": "stderr",
     "output_type": "stream",
     "text": [
      "D:\\anaconda\\lib\\site-packages\\ipykernel_launcher.py:1: SettingWithCopyWarning: \n",
      "A value is trying to be set on a copy of a slice from a DataFrame.\n",
      "Try using .loc[row_indexer,col_indexer] = value instead\n",
      "\n",
      "See the caveats in the documentation: https://pandas.pydata.org/pandas-docs/stable/user_guide/indexing.html#returning-a-view-versus-a-copy\n",
      "  \"\"\"Entry point for launching an IPython kernel.\n"
     ]
    }
   ],
   "source": [
    "new_test_df['predicted default on loan']=y_pred"
   ]
  },
  {
   "cell_type": "markdown",
   "metadata": {},
   "source": [
    "# Finally Submission !!"
   ]
  },
  {
   "cell_type": "code",
   "execution_count": 73,
   "metadata": {},
   "outputs": [],
   "source": [
    "new_test_df.to_csv(r'C:\\Users\\Admin\\Desktop\\Data_science_projects\\Submissions.csv', index = False)\n"
   ]
  },
  {
   "cell_type": "markdown",
   "metadata": {},
   "source": [
    "## Challenges faced during this modelling task\n",
    "## 1. Not too much familiar with financial data but eager to learn more\n",
    "## 2. No margin to do hyperparameter tuning as pc is not configured for such task in a big dataset"
   ]
  },
  {
   "cell_type": "markdown",
   "metadata": {},
   "source": [
    "### Appreciation note  :\n",
    "\n",
    "### I would like to thank growth source financial technologies for giving me this task it was indeed challenging and made me learn new things. "
   ]
  }
 ],
 "metadata": {
  "kernelspec": {
   "display_name": "Python 3",
   "language": "python",
   "name": "python3"
  },
  "language_info": {
   "codemirror_mode": {
    "name": "ipython",
    "version": 3
   },
   "file_extension": ".py",
   "mimetype": "text/x-python",
   "name": "python",
   "nbconvert_exporter": "python",
   "pygments_lexer": "ipython3",
   "version": "3.7.6"
  }
 },
 "nbformat": 4,
 "nbformat_minor": 4
}
